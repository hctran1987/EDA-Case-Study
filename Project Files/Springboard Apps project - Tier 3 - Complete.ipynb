{
 "cells": [
  {
   "cell_type": "markdown",
   "metadata": {
    "colab_type": "text",
    "id": "i2RUFW7TFcuh"
   },
   "source": [
    "# Springboard Apps project - Tier 3 - Complete\n",
    "\n",
    "Welcome to the Apps project! To give you a taste of your future career, we're going to walk through exactly the kind of notebook that you'd write as a data scientist. In the process, we'll be sure to signpost the general framework for our investigation - the Data Science Pipeline - as well as give reasons for why we're doing what we're doing. We're also going to apply some of the skills and knowledge you've built up in the previous unit when reading Professor Spiegelhalter's *The Art of Statistics* (hereinafter *AoS*). \n",
    "\n",
    "So let's get cracking!\n",
    "\n",
    "**Brief**\n",
    "\n",
    "Did Apple Store apps receive better reviews than Google Play apps?\n",
    "\n",
    "## Stages of the project\n",
    "\n",
    "1. Sourcing and loading \n",
    "    * Load the two datasets\n",
    "    * Pick the columns that we are going to work with \n",
    "    * Subsetting the data on this basis \n",
    " \n",
    " \n",
    "2. Cleaning, transforming and visualizing\n",
    "    * Check the data types and fix them\n",
    "    * Add a `platform` column to both the `Apple` and the `Google` dataframes\n",
    "    * Changing the column names to prepare for a join \n",
    "    * Join the two data sets\n",
    "    * Eliminate the `NaN` values\n",
    "    * Filter only those apps that have been reviewed at least once\n",
    "    * Summarize the data visually and analytically (by the column `platform`)  \n",
    "  \n",
    "  \n",
    "3. Modelling \n",
    "    * Hypothesis formulation\n",
    "    * Getting the distribution of the data\n",
    "    * Permutation test \n",
    "\n",
    "\n",
    "4. Evaluating and concluding \n",
    "    * What is our conclusion?\n",
    "    * What is our decision?\n",
    "    * Other models we could have used. \n",
    "    "
   ]
  },
  {
   "cell_type": "markdown",
   "metadata": {
    "colab_type": "text",
    "id": "QLUAXtl1Fcuk"
   },
   "source": [
    "## Importing the libraries\n",
    "\n",
    "In this case we are going to import pandas, numpy, scipy, random and matplotlib.pyplot"
   ]
  },
  {
   "cell_type": "code",
   "execution_count": 1,
   "metadata": {
    "colab": {},
    "colab_type": "code",
    "id": "XeXJOlGiFcum"
   },
   "outputs": [],
   "source": [
    "import pandas as pd\n",
    "import numpy as np\n",
    "import matplotlib.pyplot as plt\n",
    "# scipi is a library for statistical tests and visualizations \n",
    "from scipy import stats\n",
    "# random enables us to generate random numbers\n",
    "import random"
   ]
  },
  {
   "cell_type": "markdown",
   "metadata": {
    "colab_type": "text",
    "id": "zVD7NlPAFcup"
   },
   "source": [
    "## Stage 1 -  Sourcing and loading data"
   ]
  },
  {
   "cell_type": "markdown",
   "metadata": {
    "colab_type": "text",
    "id": "KU8bdbImFcuq"
   },
   "source": [
    "### 1a. Source and load the data\n",
    "Let's download the data from Kaggle. Kaggle is a fantastic resource: a kind of social medium for data scientists, it boasts projects, datasets and news on the freshest libraries and technologies all in one place. The data from the Apple Store can be found [here](https://www.kaggle.com/ramamet4/app-store-apple-data-set-10k-apps) and the data from Google Store can be found [here](https://www.kaggle.com/lava18/google-play-store-apps).\n",
    "Download the datasets and save them in your working directory."
   ]
  },
  {
   "cell_type": "code",
   "execution_count": 2,
   "metadata": {
    "colab": {},
    "colab_type": "code",
    "id": "laM1PB76Fcur"
   },
   "outputs": [
    {
     "data": {
      "text/html": [
       "<div>\n",
       "<style scoped>\n",
       "    .dataframe tbody tr th:only-of-type {\n",
       "        vertical-align: middle;\n",
       "    }\n",
       "\n",
       "    .dataframe tbody tr th {\n",
       "        vertical-align: top;\n",
       "    }\n",
       "\n",
       "    .dataframe thead th {\n",
       "        text-align: right;\n",
       "    }\n",
       "</style>\n",
       "<table border=\"1\" class=\"dataframe\">\n",
       "  <thead>\n",
       "    <tr style=\"text-align: right;\">\n",
       "      <th></th>\n",
       "      <th>App</th>\n",
       "      <th>Category</th>\n",
       "      <th>Rating</th>\n",
       "      <th>Reviews</th>\n",
       "      <th>Size</th>\n",
       "      <th>Installs</th>\n",
       "      <th>Type</th>\n",
       "      <th>Price</th>\n",
       "      <th>Content Rating</th>\n",
       "      <th>Genres</th>\n",
       "      <th>Last Updated</th>\n",
       "      <th>Current Ver</th>\n",
       "      <th>Android Ver</th>\n",
       "    </tr>\n",
       "  </thead>\n",
       "  <tbody>\n",
       "    <tr>\n",
       "      <th>0</th>\n",
       "      <td>Photo Editor &amp; Candy Camera &amp; Grid &amp; ScrapBook</td>\n",
       "      <td>ART_AND_DESIGN</td>\n",
       "      <td>4.1</td>\n",
       "      <td>159</td>\n",
       "      <td>19M</td>\n",
       "      <td>10,000+</td>\n",
       "      <td>Free</td>\n",
       "      <td>0</td>\n",
       "      <td>Everyone</td>\n",
       "      <td>Art &amp; Design</td>\n",
       "      <td>January 7, 2018</td>\n",
       "      <td>1.0.0</td>\n",
       "      <td>4.0.3 and up</td>\n",
       "    </tr>\n",
       "    <tr>\n",
       "      <th>1</th>\n",
       "      <td>Coloring book moana</td>\n",
       "      <td>ART_AND_DESIGN</td>\n",
       "      <td>3.9</td>\n",
       "      <td>967</td>\n",
       "      <td>14M</td>\n",
       "      <td>500,000+</td>\n",
       "      <td>Free</td>\n",
       "      <td>0</td>\n",
       "      <td>Everyone</td>\n",
       "      <td>Art &amp; Design;Pretend Play</td>\n",
       "      <td>January 15, 2018</td>\n",
       "      <td>2.0.0</td>\n",
       "      <td>4.0.3 and up</td>\n",
       "    </tr>\n",
       "    <tr>\n",
       "      <th>2</th>\n",
       "      <td>U Launcher Lite – FREE Live Cool Themes, Hide ...</td>\n",
       "      <td>ART_AND_DESIGN</td>\n",
       "      <td>4.7</td>\n",
       "      <td>87510</td>\n",
       "      <td>8.7M</td>\n",
       "      <td>5,000,000+</td>\n",
       "      <td>Free</td>\n",
       "      <td>0</td>\n",
       "      <td>Everyone</td>\n",
       "      <td>Art &amp; Design</td>\n",
       "      <td>August 1, 2018</td>\n",
       "      <td>1.2.4</td>\n",
       "      <td>4.0.3 and up</td>\n",
       "    </tr>\n",
       "  </tbody>\n",
       "</table>\n",
       "</div>"
      ],
      "text/plain": [
       "                                                 App        Category  Rating  \\\n",
       "0     Photo Editor & Candy Camera & Grid & ScrapBook  ART_AND_DESIGN     4.1   \n",
       "1                                Coloring book moana  ART_AND_DESIGN     3.9   \n",
       "2  U Launcher Lite – FREE Live Cool Themes, Hide ...  ART_AND_DESIGN     4.7   \n",
       "\n",
       "  Reviews  Size    Installs  Type Price Content Rating  \\\n",
       "0     159   19M     10,000+  Free     0       Everyone   \n",
       "1     967   14M    500,000+  Free     0       Everyone   \n",
       "2   87510  8.7M  5,000,000+  Free     0       Everyone   \n",
       "\n",
       "                      Genres      Last Updated Current Ver   Android Ver  \n",
       "0               Art & Design   January 7, 2018       1.0.0  4.0.3 and up  \n",
       "1  Art & Design;Pretend Play  January 15, 2018       2.0.0  4.0.3 and up  \n",
       "2               Art & Design    August 1, 2018       1.2.4  4.0.3 and up  "
      ]
     },
     "execution_count": 2,
     "metadata": {},
     "output_type": "execute_result"
    }
   ],
   "source": [
    "# Now that the files are saved, we want to load them into Python using read_csv and pandas.\n",
    "\n",
    "# Create a variable called google, and store in it the path of the csv file that contains your google dataset. \n",
    "# If your dataset is in the same folder as this notebook, the path will simply be the name of the file. \n",
    "google = 'googleplaystore.csv'\n",
    "\n",
    "# Read the csv file into a data frame called Google using the read_csv() pandas method.\n",
    "Google = pd.read_csv(google)\n",
    "\n",
    "# Using the head() pandas method, observe the first three entries.\n",
    "\n",
    "Google.head(3)"
   ]
  },
  {
   "cell_type": "code",
   "execution_count": 3,
   "metadata": {
    "colab": {},
    "colab_type": "code",
    "id": "3AW8EA1wFcuu"
   },
   "outputs": [
    {
     "data": {
      "text/html": [
       "<div>\n",
       "<style scoped>\n",
       "    .dataframe tbody tr th:only-of-type {\n",
       "        vertical-align: middle;\n",
       "    }\n",
       "\n",
       "    .dataframe tbody tr th {\n",
       "        vertical-align: top;\n",
       "    }\n",
       "\n",
       "    .dataframe thead th {\n",
       "        text-align: right;\n",
       "    }\n",
       "</style>\n",
       "<table border=\"1\" class=\"dataframe\">\n",
       "  <thead>\n",
       "    <tr style=\"text-align: right;\">\n",
       "      <th></th>\n",
       "      <th>Unnamed: 0</th>\n",
       "      <th>id</th>\n",
       "      <th>track_name</th>\n",
       "      <th>size_bytes</th>\n",
       "      <th>currency</th>\n",
       "      <th>price</th>\n",
       "      <th>rating_count_tot</th>\n",
       "      <th>rating_count_ver</th>\n",
       "      <th>user_rating</th>\n",
       "      <th>user_rating_ver</th>\n",
       "      <th>ver</th>\n",
       "      <th>cont_rating</th>\n",
       "      <th>prime_genre</th>\n",
       "      <th>sup_devices.num</th>\n",
       "      <th>ipadSc_urls.num</th>\n",
       "      <th>lang.num</th>\n",
       "      <th>vpp_lic</th>\n",
       "    </tr>\n",
       "  </thead>\n",
       "  <tbody>\n",
       "    <tr>\n",
       "      <th>0</th>\n",
       "      <td>1</td>\n",
       "      <td>281656475</td>\n",
       "      <td>PAC-MAN Premium</td>\n",
       "      <td>100788224</td>\n",
       "      <td>USD</td>\n",
       "      <td>3.99</td>\n",
       "      <td>21292</td>\n",
       "      <td>26</td>\n",
       "      <td>4.0</td>\n",
       "      <td>4.5</td>\n",
       "      <td>6.3.5</td>\n",
       "      <td>4+</td>\n",
       "      <td>Games</td>\n",
       "      <td>38</td>\n",
       "      <td>5</td>\n",
       "      <td>10</td>\n",
       "      <td>1</td>\n",
       "    </tr>\n",
       "    <tr>\n",
       "      <th>1</th>\n",
       "      <td>2</td>\n",
       "      <td>281796108</td>\n",
       "      <td>Evernote - stay organized</td>\n",
       "      <td>158578688</td>\n",
       "      <td>USD</td>\n",
       "      <td>0.00</td>\n",
       "      <td>161065</td>\n",
       "      <td>26</td>\n",
       "      <td>4.0</td>\n",
       "      <td>3.5</td>\n",
       "      <td>8.2.2</td>\n",
       "      <td>4+</td>\n",
       "      <td>Productivity</td>\n",
       "      <td>37</td>\n",
       "      <td>5</td>\n",
       "      <td>23</td>\n",
       "      <td>1</td>\n",
       "    </tr>\n",
       "    <tr>\n",
       "      <th>2</th>\n",
       "      <td>3</td>\n",
       "      <td>281940292</td>\n",
       "      <td>WeatherBug - Local Weather, Radar, Maps, Alerts</td>\n",
       "      <td>100524032</td>\n",
       "      <td>USD</td>\n",
       "      <td>0.00</td>\n",
       "      <td>188583</td>\n",
       "      <td>2822</td>\n",
       "      <td>3.5</td>\n",
       "      <td>4.5</td>\n",
       "      <td>5.0.0</td>\n",
       "      <td>4+</td>\n",
       "      <td>Weather</td>\n",
       "      <td>37</td>\n",
       "      <td>5</td>\n",
       "      <td>3</td>\n",
       "      <td>1</td>\n",
       "    </tr>\n",
       "  </tbody>\n",
       "</table>\n",
       "</div>"
      ],
      "text/plain": [
       "   Unnamed: 0         id                                       track_name  \\\n",
       "0           1  281656475                                  PAC-MAN Premium   \n",
       "1           2  281796108                        Evernote - stay organized   \n",
       "2           3  281940292  WeatherBug - Local Weather, Radar, Maps, Alerts   \n",
       "\n",
       "   size_bytes currency  price  rating_count_tot  rating_count_ver  \\\n",
       "0   100788224      USD   3.99             21292                26   \n",
       "1   158578688      USD   0.00            161065                26   \n",
       "2   100524032      USD   0.00            188583              2822   \n",
       "\n",
       "   user_rating  user_rating_ver    ver cont_rating   prime_genre  \\\n",
       "0          4.0              4.5  6.3.5          4+         Games   \n",
       "1          4.0              3.5  8.2.2          4+  Productivity   \n",
       "2          3.5              4.5  5.0.0          4+       Weather   \n",
       "\n",
       "   sup_devices.num  ipadSc_urls.num  lang.num  vpp_lic  \n",
       "0               38                5        10        1  \n",
       "1               37                5        23        1  \n",
       "2               37                5         3        1  "
      ]
     },
     "execution_count": 3,
     "metadata": {},
     "output_type": "execute_result"
    }
   ],
   "source": [
    "# Create a variable called apple, and store in it the path of the csv file that contains your apple dataset. \n",
    "apple = 'AppleStore.csv'\n",
    "\n",
    "# Read the csv file into a pandas DataFrame object called Apple.\n",
    "Apple = pd.read_csv(apple)\n",
    "\n",
    "# Observe the first three entries like you did with your other data. \n",
    "Apple.head(3)"
   ]
  },
  {
   "cell_type": "markdown",
   "metadata": {
    "colab_type": "text",
    "id": "vljOHKNTFcuw"
   },
   "source": [
    "### 1b. Pick the columns we'll work with\n",
    "\n",
    "From the documentation of these datasets, we can infer that the most appropriate columns to answer the brief are:\n",
    "\n",
    "1. Google:\n",
    "    * `Category` # Do we need this?\n",
    "    * `Rating`\n",
    "    * `Reviews`\n",
    "    * `Price` (maybe)\n",
    "2. Apple:    \n",
    "    * `prime_genre` # Do we need this?\n",
    "    * `user_rating` \n",
    "    * `rating_count_tot`\n",
    "    * `price` (maybe)"
   ]
  },
  {
   "cell_type": "markdown",
   "metadata": {
    "colab_type": "text",
    "id": "uf69AeTvFcux"
   },
   "source": [
    "### 1c. Subsetting accordingly\n",
    "\n",
    "Let's select only those columns that we want to work with from both datasets. We'll overwrite the subsets in the original variables."
   ]
  },
  {
   "cell_type": "code",
   "execution_count": 4,
   "metadata": {
    "colab": {},
    "colab_type": "code",
    "id": "LNSDXyjdFcuy"
   },
   "outputs": [
    {
     "data": {
      "text/html": [
       "<div>\n",
       "<style scoped>\n",
       "    .dataframe tbody tr th:only-of-type {\n",
       "        vertical-align: middle;\n",
       "    }\n",
       "\n",
       "    .dataframe tbody tr th {\n",
       "        vertical-align: top;\n",
       "    }\n",
       "\n",
       "    .dataframe thead th {\n",
       "        text-align: right;\n",
       "    }\n",
       "</style>\n",
       "<table border=\"1\" class=\"dataframe\">\n",
       "  <thead>\n",
       "    <tr style=\"text-align: right;\">\n",
       "      <th></th>\n",
       "      <th>Category</th>\n",
       "      <th>Rating</th>\n",
       "      <th>Reviews</th>\n",
       "      <th>Price</th>\n",
       "    </tr>\n",
       "  </thead>\n",
       "  <tbody>\n",
       "    <tr>\n",
       "      <th>0</th>\n",
       "      <td>ART_AND_DESIGN</td>\n",
       "      <td>4.1</td>\n",
       "      <td>159</td>\n",
       "      <td>0</td>\n",
       "    </tr>\n",
       "    <tr>\n",
       "      <th>1</th>\n",
       "      <td>ART_AND_DESIGN</td>\n",
       "      <td>3.9</td>\n",
       "      <td>967</td>\n",
       "      <td>0</td>\n",
       "    </tr>\n",
       "    <tr>\n",
       "      <th>2</th>\n",
       "      <td>ART_AND_DESIGN</td>\n",
       "      <td>4.7</td>\n",
       "      <td>87510</td>\n",
       "      <td>0</td>\n",
       "    </tr>\n",
       "  </tbody>\n",
       "</table>\n",
       "</div>"
      ],
      "text/plain": [
       "         Category  Rating Reviews Price\n",
       "0  ART_AND_DESIGN     4.1     159     0\n",
       "1  ART_AND_DESIGN     3.9     967     0\n",
       "2  ART_AND_DESIGN     4.7   87510     0"
      ]
     },
     "execution_count": 4,
     "metadata": {},
     "output_type": "execute_result"
    }
   ],
   "source": [
    "# Subset our DataFrame object Google by selecting just the variables ['Category', 'Rating', 'Reviews', 'Price']\n",
    "Google = Google[['Category', 'Rating', 'Reviews', 'Price']]\n",
    "\n",
    "# Check the first three entries\n",
    "Google.head(3)"
   ]
  },
  {
   "cell_type": "code",
   "execution_count": 5,
   "metadata": {
    "colab": {},
    "colab_type": "code",
    "id": "AVCtENPtFcu0"
   },
   "outputs": [
    {
     "data": {
      "text/html": [
       "<div>\n",
       "<style scoped>\n",
       "    .dataframe tbody tr th:only-of-type {\n",
       "        vertical-align: middle;\n",
       "    }\n",
       "\n",
       "    .dataframe tbody tr th {\n",
       "        vertical-align: top;\n",
       "    }\n",
       "\n",
       "    .dataframe thead th {\n",
       "        text-align: right;\n",
       "    }\n",
       "</style>\n",
       "<table border=\"1\" class=\"dataframe\">\n",
       "  <thead>\n",
       "    <tr style=\"text-align: right;\">\n",
       "      <th></th>\n",
       "      <th>prime_genre</th>\n",
       "      <th>user_rating</th>\n",
       "      <th>rating_count_tot</th>\n",
       "      <th>price</th>\n",
       "    </tr>\n",
       "  </thead>\n",
       "  <tbody>\n",
       "    <tr>\n",
       "      <th>0</th>\n",
       "      <td>Games</td>\n",
       "      <td>4.0</td>\n",
       "      <td>21292</td>\n",
       "      <td>3.99</td>\n",
       "    </tr>\n",
       "    <tr>\n",
       "      <th>1</th>\n",
       "      <td>Productivity</td>\n",
       "      <td>4.0</td>\n",
       "      <td>161065</td>\n",
       "      <td>0.00</td>\n",
       "    </tr>\n",
       "    <tr>\n",
       "      <th>2</th>\n",
       "      <td>Weather</td>\n",
       "      <td>3.5</td>\n",
       "      <td>188583</td>\n",
       "      <td>0.00</td>\n",
       "    </tr>\n",
       "  </tbody>\n",
       "</table>\n",
       "</div>"
      ],
      "text/plain": [
       "    prime_genre  user_rating  rating_count_tot  price\n",
       "0         Games          4.0             21292   3.99\n",
       "1  Productivity          4.0            161065   0.00\n",
       "2       Weather          3.5            188583   0.00"
      ]
     },
     "execution_count": 5,
     "metadata": {},
     "output_type": "execute_result"
    }
   ],
   "source": [
    "# Do the same with our Apple object, selecting just the variables ['prime_genre', 'user_rating', 'rating_count_tot', 'price']\n",
    "Apple = Apple[['prime_genre', 'user_rating', 'rating_count_tot', 'price']]\n",
    "\n",
    "# Let's check the first three entries\n",
    "Apple.head(3) "
   ]
  },
  {
   "cell_type": "markdown",
   "metadata": {
    "colab_type": "text",
    "id": "wwK2wH-rFcu2"
   },
   "source": [
    "## Stage 2 -  Cleaning, transforming and visualizing"
   ]
  },
  {
   "cell_type": "markdown",
   "metadata": {
    "colab_type": "text",
    "id": "NsoE5x0JFcu3"
   },
   "source": [
    "### 2a. Check the data types for both Apple and Google, and fix them\n",
    "\n",
    "Types are crucial for data science in Python. Let's determine whether the variables we selected in the previous section belong to the types they should do, or whether there are any errors here. "
   ]
  },
  {
   "cell_type": "code",
   "execution_count": 6,
   "metadata": {
    "colab": {},
    "colab_type": "code",
    "id": "ymw10SaWFcu4"
   },
   "outputs": [
    {
     "data": {
      "text/plain": [
       "prime_genre          object\n",
       "user_rating         float64\n",
       "rating_count_tot      int64\n",
       "price               float64\n",
       "dtype: object"
      ]
     },
     "execution_count": 6,
     "metadata": {},
     "output_type": "execute_result"
    }
   ],
   "source": [
    "# Using the dtypes feature of pandas DataFrame objects, check out the data types within our Apple dataframe.\n",
    "# Are they what you expect?\n",
    "Apple.dtypes"
   ]
  },
  {
   "cell_type": "markdown",
   "metadata": {
    "colab_type": "text",
    "id": "VAiM6jIxFcu6"
   },
   "source": [
    "This is looking healthy. But what about our Google data frame?"
   ]
  },
  {
   "cell_type": "code",
   "execution_count": 7,
   "metadata": {
    "colab": {},
    "colab_type": "code",
    "id": "kmP8MhqyFcu7"
   },
   "outputs": [
    {
     "data": {
      "text/plain": [
       "Category     object\n",
       "Rating      float64\n",
       "Reviews      object\n",
       "Price        object\n",
       "dtype: object"
      ]
     },
     "execution_count": 7,
     "metadata": {},
     "output_type": "execute_result"
    }
   ],
   "source": [
    "# Using the same dtypes feature, check out the data types of our Google dataframe. \n",
    "Google.dtypes"
   ]
  },
  {
   "cell_type": "markdown",
   "metadata": {
    "colab_type": "text",
    "id": "O-dxAy0WFcu9"
   },
   "source": [
    "Weird. The data type for the column 'Price' is 'object', not a numeric data type like a float or an integer. Let's investigate the unique values of this column. "
   ]
  },
  {
   "cell_type": "code",
   "execution_count": 8,
   "metadata": {
    "colab": {},
    "colab_type": "code",
    "id": "Hu08K9y7Fcu9"
   },
   "outputs": [
    {
     "data": {
      "text/plain": [
       "array(['0', '$4.99', '$3.99', '$6.99', '$1.49', '$2.99', '$7.99', '$5.99',\n",
       "       '$3.49', '$1.99', '$9.99', '$7.49', '$0.99', '$9.00', '$5.49',\n",
       "       '$10.00', '$24.99', '$11.99', '$79.99', '$16.99', '$14.99',\n",
       "       '$1.00', '$29.99', '$12.99', '$2.49', '$10.99', '$1.50', '$19.99',\n",
       "       '$15.99', '$33.99', '$74.99', '$39.99', '$3.95', '$4.49', '$1.70',\n",
       "       '$8.99', '$2.00', '$3.88', '$25.99', '$399.99', '$17.99',\n",
       "       '$400.00', '$3.02', '$1.76', '$4.84', '$4.77', '$1.61', '$2.50',\n",
       "       '$1.59', '$6.49', '$1.29', '$5.00', '$13.99', '$299.99', '$379.99',\n",
       "       '$37.99', '$18.99', '$389.99', '$19.90', '$8.49', '$1.75',\n",
       "       '$14.00', '$4.85', '$46.99', '$109.99', '$154.99', '$3.08',\n",
       "       '$2.59', '$4.80', '$1.96', '$19.40', '$3.90', '$4.59', '$15.46',\n",
       "       '$3.04', '$4.29', '$2.60', '$3.28', '$4.60', '$28.99', '$2.95',\n",
       "       '$2.90', '$1.97', '$200.00', '$89.99', '$2.56', '$30.99', '$3.61',\n",
       "       '$394.99', '$1.26', 'Everyone', '$1.20', '$1.04'], dtype=object)"
      ]
     },
     "execution_count": 8,
     "metadata": {},
     "output_type": "execute_result"
    }
   ],
   "source": [
    "# Use the unique() pandas method on the Price column to check its unique values. \n",
    "Google.Price.unique()"
   ]
  },
  {
   "cell_type": "markdown",
   "metadata": {
    "colab_type": "text",
    "id": "w_7nkogFFcu_"
   },
   "source": [
    "Aha! Fascinating. There are actually two issues here. \n",
    "\n",
    "- Firstly, there's a price called `Everyone`. That is a massive mistake! \n",
    "- Secondly, there are dollar symbols everywhere! \n",
    "\n",
    "\n",
    "Let's address the first issue first. Let's check the datapoints that have the price value `Everyone`"
   ]
  },
  {
   "cell_type": "code",
   "execution_count": 9,
   "metadata": {
    "colab": {},
    "colab_type": "code",
    "id": "E75WWmhdFcvA"
   },
   "outputs": [
    {
     "data": {
      "text/html": [
       "<div>\n",
       "<style scoped>\n",
       "    .dataframe tbody tr th:only-of-type {\n",
       "        vertical-align: middle;\n",
       "    }\n",
       "\n",
       "    .dataframe tbody tr th {\n",
       "        vertical-align: top;\n",
       "    }\n",
       "\n",
       "    .dataframe thead th {\n",
       "        text-align: right;\n",
       "    }\n",
       "</style>\n",
       "<table border=\"1\" class=\"dataframe\">\n",
       "  <thead>\n",
       "    <tr style=\"text-align: right;\">\n",
       "      <th></th>\n",
       "      <th>Category</th>\n",
       "      <th>Rating</th>\n",
       "      <th>Reviews</th>\n",
       "      <th>Price</th>\n",
       "    </tr>\n",
       "  </thead>\n",
       "  <tbody>\n",
       "    <tr>\n",
       "      <th>10472</th>\n",
       "      <td>1.9</td>\n",
       "      <td>19.0</td>\n",
       "      <td>3.0M</td>\n",
       "      <td>Everyone</td>\n",
       "    </tr>\n",
       "  </tbody>\n",
       "</table>\n",
       "</div>"
      ],
      "text/plain": [
       "      Category  Rating Reviews     Price\n",
       "10472      1.9    19.0    3.0M  Everyone"
      ]
     },
     "execution_count": 9,
     "metadata": {},
     "output_type": "execute_result"
    }
   ],
   "source": [
    "# Let's check which data points have the value 'Everyone' for the 'Price' column by subsetting our Google dataframe.\n",
    "\n",
    "# Subset the Google dataframe on the price column. \n",
    "# To be sure: you want to pick out just those rows whose value for the 'Price' column is just 'Everyone'. \n",
    "Google[Google.Price == 'Everyone']"
   ]
  },
  {
   "cell_type": "markdown",
   "metadata": {
    "colab_type": "text",
    "id": "ezfLshdRFcvC"
   },
   "source": [
    "Thankfully, it's just one row. We've gotta get rid of it. "
   ]
  },
  {
   "cell_type": "code",
   "execution_count": 10,
   "metadata": {
    "colab": {},
    "colab_type": "code",
    "id": "DBmjUQUkFcvD"
   },
   "outputs": [
    {
     "data": {
      "text/plain": [
       "array(['0', '$4.99', '$3.99', '$6.99', '$1.49', '$2.99', '$7.99', '$5.99',\n",
       "       '$3.49', '$1.99', '$9.99', '$7.49', '$0.99', '$9.00', '$5.49',\n",
       "       '$10.00', '$24.99', '$11.99', '$79.99', '$16.99', '$14.99',\n",
       "       '$1.00', '$29.99', '$12.99', '$2.49', '$10.99', '$1.50', '$19.99',\n",
       "       '$15.99', '$33.99', '$74.99', '$39.99', '$3.95', '$4.49', '$1.70',\n",
       "       '$8.99', '$2.00', '$3.88', '$25.99', '$399.99', '$17.99',\n",
       "       '$400.00', '$3.02', '$1.76', '$4.84', '$4.77', '$1.61', '$2.50',\n",
       "       '$1.59', '$6.49', '$1.29', '$5.00', '$13.99', '$299.99', '$379.99',\n",
       "       '$37.99', '$18.99', '$389.99', '$19.90', '$8.49', '$1.75',\n",
       "       '$14.00', '$4.85', '$46.99', '$109.99', '$154.99', '$3.08',\n",
       "       '$2.59', '$4.80', '$1.96', '$19.40', '$3.90', '$4.59', '$15.46',\n",
       "       '$3.04', '$4.29', '$2.60', '$3.28', '$4.60', '$28.99', '$2.95',\n",
       "       '$2.90', '$1.97', '$200.00', '$89.99', '$2.56', '$30.99', '$3.61',\n",
       "       '$394.99', '$1.26', '$1.20', '$1.04'], dtype=object)"
      ]
     },
     "execution_count": 10,
     "metadata": {},
     "output_type": "execute_result"
    }
   ],
   "source": [
    "# Let's eliminate that row. \n",
    "\n",
    "# Subset our Google dataframe to pick out just those rows whose value for the 'Price' column is NOT 'Everyone'. \n",
    "# Reassign that subset to the Google variable. \n",
    "# You can do this in two lines or one. Your choice! \n",
    "Google = Google[Google.Price != 'Everyone']\n",
    "\n",
    "# Check again the unique values of Google\n",
    "Google.Price.unique()"
   ]
  },
  {
   "cell_type": "markdown",
   "metadata": {
    "colab_type": "text",
    "id": "T43TB4qFFcvF"
   },
   "source": [
    "Our second problem remains: I'm seeing dollar symbols when I close my eyes! (And not in a good way). \n",
    "\n",
    "This is a problem because Python actually considers these values strings. So we can't do mathematical and statistical operations on them until we've made them into numbers. "
   ]
  },
  {
   "cell_type": "code",
   "execution_count": 11,
   "metadata": {
    "colab": {},
    "colab_type": "code",
    "id": "W87gVS9BFcvG"
   },
   "outputs": [
    {
     "name": "stderr",
     "output_type": "stream",
     "text": [
      "/var/folders/2d/q596lzpj3gs9lx0bnt_wn55m0000gn/T/ipykernel_11653/1079654949.py:3: FutureWarning: The default value of regex will change from True to False in a future version. In addition, single character regular expressions will *not* be treated as literal strings when regex=True.\n",
      "  nosymb = Google.Price.str.replace('$','')\n"
     ]
    }
   ],
   "source": [
    "# Let's create a variable called nosymb.\n",
    "# This variable will take the Price column of Google and apply the str.replace() method. \n",
    "nosymb = Google.Price.str.replace('$','')\n",
    "\n",
    "# Now we need to do two things:\n",
    "# i. Make the values in the nosymb variable numeric using the to_numeric() pandas method.\n",
    "# ii. Assign this new set of numeric, dollar-sign-less values to Google['Price']. \n",
    "# You can do this in one line if you wish.\n",
    "\n",
    "nosymb = pd.to_numeric(nosymb)\n",
    "Google['Price'] = nosymb"
   ]
  },
  {
   "cell_type": "markdown",
   "metadata": {
    "colab_type": "text",
    "id": "LxpJQ9yyFcvI"
   },
   "source": [
    "Now let's check the data types for our Google dataframe again, to verify that the 'Price' column really is numeric now."
   ]
  },
  {
   "cell_type": "code",
   "execution_count": 12,
   "metadata": {
    "colab": {},
    "colab_type": "code",
    "id": "Fn5Gt-QbFcvI"
   },
   "outputs": [
    {
     "data": {
      "text/plain": [
       "Category     object\n",
       "Rating      float64\n",
       "Reviews      object\n",
       "Price       float64\n",
       "dtype: object"
      ]
     },
     "execution_count": 12,
     "metadata": {},
     "output_type": "execute_result"
    }
   ],
   "source": [
    "# Use the function dtypes. \n",
    "Google.dtypes"
   ]
  },
  {
   "cell_type": "markdown",
   "metadata": {
    "colab_type": "text",
    "id": "FgfuiVo0FcvK"
   },
   "source": [
    "Notice that the column `Reviews` is still an object column. We actually need this column to be a numeric column, too. "
   ]
  },
  {
   "cell_type": "code",
   "execution_count": 13,
   "metadata": {
    "colab": {},
    "colab_type": "code",
    "id": "MiVEWsWBFcvL"
   },
   "outputs": [],
   "source": [
    "# Convert the 'Reviews' column to a numeric data type. \n",
    "Google['Reviews'] = pd.to_numeric(Google['Reviews'])"
   ]
  },
  {
   "cell_type": "code",
   "execution_count": 14,
   "metadata": {
    "colab": {},
    "colab_type": "code",
    "id": "wWJdXXTTFcvN"
   },
   "outputs": [
    {
     "data": {
      "text/plain": [
       "Category     object\n",
       "Rating      float64\n",
       "Reviews       int64\n",
       "Price       float64\n",
       "dtype: object"
      ]
     },
     "execution_count": 14,
     "metadata": {},
     "output_type": "execute_result"
    }
   ],
   "source": [
    "# Let's check the data types of Google again\n",
    "Google.dtypes"
   ]
  },
  {
   "cell_type": "markdown",
   "metadata": {
    "colab_type": "text",
    "id": "OiLm2GEKFcvP"
   },
   "source": [
    "### 2b. Add a `platform` column to both the `Apple` and the `Google` dataframes\n",
    "Let's add a new column to both dataframe objects called `platform`: all of its values in the Google dataframe will be just 'google', and all of its values for the Apple dataframe will be just 'apple'. \n",
    "\n",
    "The reason we're making this column is so that we can ultimately join our Apple and Google data together, and actually test out some hypotheses to solve the problem in our brief. "
   ]
  },
  {
   "cell_type": "code",
   "execution_count": 15,
   "metadata": {
    "colab": {},
    "colab_type": "code",
    "id": "mF-sOcx2FcvQ"
   },
   "outputs": [],
   "source": [
    "# Create a column called 'platform' in both the Apple and Google dataframes. \n",
    "# Add the value 'apple' and the value 'google' as appropriate. \n",
    "Google['platform'] = 'google'\n",
    "Apple['platform'] = 'apple'"
   ]
  },
  {
   "cell_type": "markdown",
   "metadata": {
    "colab_type": "text",
    "id": "EJcry17IFcvS"
   },
   "source": [
    "### 2c. Changing the column names to prepare for our join of the two datasets \n",
    "Since the easiest way to join two datasets is if they have both:\n",
    "- the same number of columns\n",
    "- the same column names\n",
    "we need to rename the columns of `Apple` so that they're the same as the ones of `Google`, or vice versa.\n",
    "\n",
    "In this case, we're going to change the `Apple` columns names to the names of the `Google` columns. \n",
    "\n",
    "This is an important step to unify the two datasets!"
   ]
  },
  {
   "cell_type": "code",
   "execution_count": 16,
   "metadata": {
    "colab": {},
    "colab_type": "code",
    "id": "bdt9XH2KFcvT"
   },
   "outputs": [],
   "source": [
    "# Create a variable called old_names where you'll store the column names of the Apple dataframe. \n",
    "# Use the feature .columns.\n",
    "old_names = Apple.columns\n",
    "\n",
    "# Create a variable called new_names where you'll store the column names of the Google dataframe. \n",
    "new_names = Google.columns\n",
    "\n",
    "# Use the rename() DataFrame method to change the columns names. \n",
    "Apple.columns = new_names"
   ]
  },
  {
   "cell_type": "markdown",
   "metadata": {
    "colab_type": "text",
    "id": "qewPiLrRFcvX"
   },
   "source": [
    "### 2d. Join the two datasets \n",
    "Let's combine the two datasets into a single data frame called `df`."
   ]
  },
  {
   "cell_type": "code",
   "execution_count": 17,
   "metadata": {
    "colab": {},
    "colab_type": "code",
    "id": "jq6fGfvyFcvY"
   },
   "outputs": [
    {
     "data": {
      "text/html": [
       "<div>\n",
       "<style scoped>\n",
       "    .dataframe tbody tr th:only-of-type {\n",
       "        vertical-align: middle;\n",
       "    }\n",
       "\n",
       "    .dataframe tbody tr th {\n",
       "        vertical-align: top;\n",
       "    }\n",
       "\n",
       "    .dataframe thead th {\n",
       "        text-align: right;\n",
       "    }\n",
       "</style>\n",
       "<table border=\"1\" class=\"dataframe\">\n",
       "  <thead>\n",
       "    <tr style=\"text-align: right;\">\n",
       "      <th></th>\n",
       "      <th>Category</th>\n",
       "      <th>Rating</th>\n",
       "      <th>Reviews</th>\n",
       "      <th>Price</th>\n",
       "      <th>platform</th>\n",
       "    </tr>\n",
       "  </thead>\n",
       "  <tbody>\n",
       "    <tr>\n",
       "      <th>6038</th>\n",
       "      <td>Games</td>\n",
       "      <td>0.0</td>\n",
       "      <td>0</td>\n",
       "      <td>0.00</td>\n",
       "      <td>apple</td>\n",
       "    </tr>\n",
       "    <tr>\n",
       "      <th>3534</th>\n",
       "      <td>PRODUCTIVITY</td>\n",
       "      <td>4.2</td>\n",
       "      <td>244567</td>\n",
       "      <td>0.00</td>\n",
       "      <td>google</td>\n",
       "    </tr>\n",
       "    <tr>\n",
       "      <th>10486</th>\n",
       "      <td>AUTO_AND_VEHICLES</td>\n",
       "      <td>4.6</td>\n",
       "      <td>107</td>\n",
       "      <td>0.00</td>\n",
       "      <td>google</td>\n",
       "    </tr>\n",
       "    <tr>\n",
       "      <th>8213</th>\n",
       "      <td>FAMILY</td>\n",
       "      <td>3.7</td>\n",
       "      <td>6514</td>\n",
       "      <td>0.00</td>\n",
       "      <td>google</td>\n",
       "    </tr>\n",
       "    <tr>\n",
       "      <th>5915</th>\n",
       "      <td>Games</td>\n",
       "      <td>4.0</td>\n",
       "      <td>1621</td>\n",
       "      <td>0.00</td>\n",
       "      <td>apple</td>\n",
       "    </tr>\n",
       "    <tr>\n",
       "      <th>5452</th>\n",
       "      <td>Games</td>\n",
       "      <td>4.0</td>\n",
       "      <td>14</td>\n",
       "      <td>0.00</td>\n",
       "      <td>apple</td>\n",
       "    </tr>\n",
       "    <tr>\n",
       "      <th>8049</th>\n",
       "      <td>FAMILY</td>\n",
       "      <td>3.9</td>\n",
       "      <td>13</td>\n",
       "      <td>0.00</td>\n",
       "      <td>google</td>\n",
       "    </tr>\n",
       "    <tr>\n",
       "      <th>2114</th>\n",
       "      <td>FAMILY</td>\n",
       "      <td>4.3</td>\n",
       "      <td>10088</td>\n",
       "      <td>0.00</td>\n",
       "      <td>google</td>\n",
       "    </tr>\n",
       "    <tr>\n",
       "      <th>853</th>\n",
       "      <td>EDUCATION</td>\n",
       "      <td>4.7</td>\n",
       "      <td>31085</td>\n",
       "      <td>3.99</td>\n",
       "      <td>google</td>\n",
       "    </tr>\n",
       "    <tr>\n",
       "      <th>3070</th>\n",
       "      <td>SPORTS</td>\n",
       "      <td>4.6</td>\n",
       "      <td>11549</td>\n",
       "      <td>0.00</td>\n",
       "      <td>google</td>\n",
       "    </tr>\n",
       "    <tr>\n",
       "      <th>4182</th>\n",
       "      <td>Photo &amp; Video</td>\n",
       "      <td>0.0</td>\n",
       "      <td>0</td>\n",
       "      <td>0.99</td>\n",
       "      <td>apple</td>\n",
       "    </tr>\n",
       "    <tr>\n",
       "      <th>10471</th>\n",
       "      <td>PERSONALIZATION</td>\n",
       "      <td>3.5</td>\n",
       "      <td>1042</td>\n",
       "      <td>0.00</td>\n",
       "      <td>google</td>\n",
       "    </tr>\n",
       "  </tbody>\n",
       "</table>\n",
       "</div>"
      ],
      "text/plain": [
       "                Category  Rating  Reviews  Price platform\n",
       "6038               Games     0.0        0   0.00    apple\n",
       "3534        PRODUCTIVITY     4.2   244567   0.00   google\n",
       "10486  AUTO_AND_VEHICLES     4.6      107   0.00   google\n",
       "8213              FAMILY     3.7     6514   0.00   google\n",
       "5915               Games     4.0     1621   0.00    apple\n",
       "5452               Games     4.0       14   0.00    apple\n",
       "8049              FAMILY     3.9       13   0.00   google\n",
       "2114              FAMILY     4.3    10088   0.00   google\n",
       "853            EDUCATION     4.7    31085   3.99   google\n",
       "3070              SPORTS     4.6    11549   0.00   google\n",
       "4182       Photo & Video     0.0        0   0.99    apple\n",
       "10471    PERSONALIZATION     3.5     1042   0.00   google"
      ]
     },
     "execution_count": 17,
     "metadata": {},
     "output_type": "execute_result"
    }
   ],
   "source": [
    "# Let's use the append() method to append Apple to Google. \n",
    "df = Apple.append(Google)\n",
    "\n",
    "# Using the sample() method with the number 12 passed to it, check 12 random points of your dataset.\n",
    "df.sample(12)"
   ]
  },
  {
   "cell_type": "markdown",
   "metadata": {
    "colab_type": "text",
    "id": "FjqsHugWFcvb"
   },
   "source": [
    "### 2e. Eliminate the NaN values\n",
    "\n",
    "As you can see there are some `NaN` values. We want to eliminate all these `NaN` values from the table."
   ]
  },
  {
   "cell_type": "code",
   "execution_count": 18,
   "metadata": {
    "colab": {},
    "colab_type": "code",
    "id": "Gp2q6GLyFcvb"
   },
   "outputs": [
    {
     "name": "stdout",
     "output_type": "stream",
     "text": [
      "(18037, 5)\n",
      "(16563, 5)\n"
     ]
    }
   ],
   "source": [
    "# Lets check first the dimesions of df before droping `NaN` values. Use the .shape feature. \n",
    "print(df.shape)\n",
    "\n",
    "# Use the dropna() method to eliminate all the NaN values, and overwrite the same dataframe with the result. \n",
    "df = df.dropna()\n",
    "\n",
    "# Check the new dimesions of our dataframe. \n",
    "print(df.shape)"
   ]
  },
  {
   "cell_type": "markdown",
   "metadata": {
    "colab_type": "text",
    "id": "qtfeQKtAFcvd"
   },
   "source": [
    "### 2f. Filter the data so that we only see whose apps that have been reviewed at least once\n",
    "\n",
    "Apps that haven't been reviewed yet can't help us solve our brief. \n",
    "\n",
    "So let's check to see if any apps have no reviews at all. "
   ]
  },
  {
   "cell_type": "code",
   "execution_count": 19,
   "metadata": {
    "colab": {},
    "colab_type": "code",
    "id": "Ge9OKXLNFcvd"
   },
   "outputs": [
    {
     "data": {
      "text/plain": [
       "Category    929\n",
       "Rating      929\n",
       "Reviews     929\n",
       "Price       929\n",
       "platform    929\n",
       "dtype: int64"
      ]
     },
     "execution_count": 19,
     "metadata": {},
     "output_type": "execute_result"
    }
   ],
   "source": [
    "# Subset your df to pick out just those rows whose value for 'Reviews' is equal to 0. \n",
    "# Do a count() on the result. \n",
    "df[df.Reviews == 0].count()"
   ]
  },
  {
   "cell_type": "markdown",
   "metadata": {
    "colab_type": "text",
    "id": "05f7H0kAFcvg"
   },
   "source": [
    "929 apps do not have reviews, we need to eliminate these points!"
   ]
  },
  {
   "cell_type": "code",
   "execution_count": 20,
   "metadata": {
    "colab": {},
    "colab_type": "code",
    "id": "pD8vmPjkFcvg"
   },
   "outputs": [],
   "source": [
    "# Eliminate the points that have 0 reviews.\n",
    "df = df[df.Reviews !=0]"
   ]
  },
  {
   "cell_type": "markdown",
   "metadata": {
    "colab_type": "text",
    "id": "ApnKES_bFcvi"
   },
   "source": [
    "### 2g. Summarize the data visually and analytically (by the column `platform`)"
   ]
  },
  {
   "cell_type": "markdown",
   "metadata": {
    "colab_type": "text",
    "id": "2smt9UocFcvj"
   },
   "source": [
    "What we need to solve our brief is a summary of the `Rating` column, but separated by the different platforms."
   ]
  },
  {
   "cell_type": "code",
   "execution_count": 21,
   "metadata": {
    "colab": {},
    "colab_type": "code",
    "id": "Vqckt347Fcvj"
   },
   "outputs": [
    {
     "data": {
      "text/html": [
       "<div>\n",
       "<style scoped>\n",
       "    .dataframe tbody tr th:only-of-type {\n",
       "        vertical-align: middle;\n",
       "    }\n",
       "\n",
       "    .dataframe tbody tr th {\n",
       "        vertical-align: top;\n",
       "    }\n",
       "\n",
       "    .dataframe thead th {\n",
       "        text-align: right;\n",
       "    }\n",
       "</style>\n",
       "<table border=\"1\" class=\"dataframe\">\n",
       "  <thead>\n",
       "    <tr style=\"text-align: right;\">\n",
       "      <th></th>\n",
       "      <th>count</th>\n",
       "      <th>mean</th>\n",
       "      <th>std</th>\n",
       "      <th>min</th>\n",
       "      <th>25%</th>\n",
       "      <th>50%</th>\n",
       "      <th>75%</th>\n",
       "      <th>max</th>\n",
       "    </tr>\n",
       "    <tr>\n",
       "      <th>platform</th>\n",
       "      <th></th>\n",
       "      <th></th>\n",
       "      <th></th>\n",
       "      <th></th>\n",
       "      <th></th>\n",
       "      <th></th>\n",
       "      <th></th>\n",
       "      <th></th>\n",
       "    </tr>\n",
       "  </thead>\n",
       "  <tbody>\n",
       "    <tr>\n",
       "      <th>apple</th>\n",
       "      <td>6268.0</td>\n",
       "      <td>4.049697</td>\n",
       "      <td>0.726943</td>\n",
       "      <td>1.0</td>\n",
       "      <td>4.0</td>\n",
       "      <td>4.5</td>\n",
       "      <td>4.5</td>\n",
       "      <td>5.0</td>\n",
       "    </tr>\n",
       "    <tr>\n",
       "      <th>google</th>\n",
       "      <td>9366.0</td>\n",
       "      <td>4.191757</td>\n",
       "      <td>0.515219</td>\n",
       "      <td>1.0</td>\n",
       "      <td>4.0</td>\n",
       "      <td>4.3</td>\n",
       "      <td>4.5</td>\n",
       "      <td>5.0</td>\n",
       "    </tr>\n",
       "  </tbody>\n",
       "</table>\n",
       "</div>"
      ],
      "text/plain": [
       "           count      mean       std  min  25%  50%  75%  max\n",
       "platform                                                     \n",
       "apple     6268.0  4.049697  0.726943  1.0  4.0  4.5  4.5  5.0\n",
       "google    9366.0  4.191757  0.515219  1.0  4.0  4.3  4.5  5.0"
      ]
     },
     "execution_count": 21,
     "metadata": {},
     "output_type": "execute_result"
    }
   ],
   "source": [
    "# To summarize analytically, let's use the groupby() method on our df.\n",
    "df.groupby('platform')['Rating'].describe()"
   ]
  },
  {
   "cell_type": "markdown",
   "metadata": {
    "colab_type": "text",
    "id": "8f9TqMtKFcvl"
   },
   "source": [
    "Interesting! Our means of 4.049697 and 4.191757 don't **seem** all that different! Perhaps we've solved our brief already: there's no significant difference between Google Play app reviews and Apple Store app reviews. We have an ***observed difference*** here: which is simply (4.191757 - 4.049697) = 0.14206. This is just the actual difference that we observed between the mean rating for apps from Google Play, and the mean rating for apps from the Apple Store. Let's look at how we're going to use this observed difference to solve our problem using a statistical test. \n",
    "\n",
    "**Outline of our method:**\n",
    "1. We'll assume that platform (i.e, whether the app was Google or Apple) really doesn’t impact on ratings. \n",
    "\n",
    "\n",
    "2. Given this assumption, we should actually be able to get a difference in mean rating for Apple apps and mean rating for Google apps that's pretty similar to the one we actually got (0.14206) just by: \n",
    "a. shuffling the ratings column, \n",
    "b. keeping the platform column the same,\n",
    "c. calculating the difference between the mean rating for Apple and the mean rating for Google. \n",
    "\n",
    "\n",
    "3. We can make the shuffle more useful by doing it many times, each time calculating the mean rating for Apple apps and the mean rating for Google apps, and the difference between these means. \n",
    "\n",
    "\n",
    "4. We can then take the mean of all these differences, and this will be called our permutation difference. This permutation difference will be great indicator of what the difference would be if our initial assumption were true and platform really doesn’t impact on ratings. \n",
    "\n",
    "\n",
    "5. Now we do a comparison. If the observed difference looks just like the permutation difference, then we stick with the claim that actually, platform doesn’t impact on ratings. If instead, however, the permutation difference differs significantly from the observed difference, we'll conclude: something's going on; the platform does in fact impact on ratings. \n",
    "\n",
    "\n",
    "6. As for what the definition of *significantly* is, we'll get to that. But there’s a brief summary of what we're going to do. Exciting!\n",
    "\n",
    "If you want to look more deeply at the statistics behind this project, check out [this resource](https://www.springboard.com/archeio/download/4ea4d453b0b84014bcef287c50f47f00/)."
   ]
  },
  {
   "cell_type": "markdown",
   "metadata": {
    "colab_type": "text",
    "id": "d6EhTxArFcvm"
   },
   "source": [
    "Let's also get a **visual summary** of the `Rating` column, separated by the different platforms. \n",
    "\n",
    "A good tool to use here is the boxplot!"
   ]
  },
  {
   "cell_type": "code",
   "execution_count": 22,
   "metadata": {
    "colab": {},
    "colab_type": "code",
    "id": "hFKjrlWgFcvm"
   },
   "outputs": [
    {
     "data": {
      "text/plain": [
       "<AxesSubplot:title={'center':'Rating'}, xlabel='platform'>"
      ]
     },
     "execution_count": 22,
     "metadata": {},
     "output_type": "execute_result"
    },
    {
     "data": {
      "image/png": "[encoded data removed]",
      "text/plain": [
       "<Figure size 432x288 with 1 Axes>"
      ]
     },
     "metadata": {
      "needs_background": "light"
     },
     "output_type": "display_data"
    }
   ],
   "source": [
    "# Call the boxplot() method on our df.\n",
    "df.boxplot(column = 'Rating', by = 'platform')"
   ]
  },
  {
   "cell_type": "markdown",
   "metadata": {
    "colab_type": "text",
    "id": "FqTlAjnmFcvo"
   },
   "source": [
    "Here we see the same information as in the analytical summary, but with a boxplot. Can you see how the boxplot is working here? If you need to revise your boxplots, check out this this [link](https://www.kaggle.com/ramamet4/app-store-apple-data-set-10k-apps). "
   ]
  },
  {
   "cell_type": "markdown",
   "metadata": {
    "colab_type": "text",
    "id": "O8L-s1fgFcvp"
   },
   "source": [
    "## Stage 3 - Modelling"
   ]
  },
  {
   "cell_type": "markdown",
   "metadata": {
    "colab_type": "text",
    "id": "5fbRq2MZFcvq"
   },
   "source": [
    "### 3a. Hypothesis formulation\n",
    "\n",
    "Our **Null hypothesis** is just:\n",
    "\n",
    "**H<sub>null</sub>**: the observed difference in the mean rating of Apple Store and Google Play apps is due to chance (and thus not due to the platform).\n",
    "\n",
    "The more interesting hypothesis is called the **Alternate hypothesis**:\n",
    "\n",
    "**H<sub>alternative</sub>**: the observed difference in the average ratings of apple and google users is not due to chance (and is actually due to platform)\n",
    "\n",
    "We're also going to pick a **significance level** of 0.05. "
   ]
  },
  {
   "cell_type": "markdown",
   "metadata": {
    "colab_type": "text",
    "id": "TjBqkabaFcvq"
   },
   "source": [
    "### 3b. Getting the distribution of the data\n",
    "Now that the hypotheses and significance level are defined, we can select a statistical test to determine which hypothesis to accept. \n",
    "\n",
    "There are many different statistical tests, all with different assumptions. You'll generate an excellent judgement about when to use which statistical tests over the Data Science Career Track course. But in general, one of the most important things to determine is the **distribution of the data**.   "
   ]
  },
  {
   "cell_type": "code",
   "execution_count": 23,
   "metadata": {
    "colab": {},
    "colab_type": "code",
    "id": "bFwVhkeWFcvr"
   },
   "outputs": [],
   "source": [
    "# Create a subset of the column 'Rating' by the different platforms.\n",
    "# Call the subsets 'apple' and 'google' \n",
    "apple = df.loc[df.platform == 'apple', 'Rating']\n",
    "google = df.loc[df.platform == 'google', 'Rating']"
   ]
  },
  {
   "cell_type": "code",
   "execution_count": 24,
   "metadata": {
    "colab": {},
    "colab_type": "code",
    "id": "oPPFpwPvFcvu"
   },
   "outputs": [
    {
     "data": {
      "text/plain": [
       "NormaltestResult(statistic=1778.9974234584017, pvalue=0.0)"
      ]
     },
     "execution_count": 24,
     "metadata": {},
     "output_type": "execute_result"
    }
   ],
   "source": [
    "# Using the stats.normaltest() method, get an indication of whether the apple data are normally distributed\n",
    "# Save the result in a variable called apple_normal, and print it out\n",
    "apple_normal = stats.normaltest(apple)\n",
    "apple_normal"
   ]
  },
  {
   "cell_type": "code",
   "execution_count": 25,
   "metadata": {
    "colab": {},
    "colab_type": "code",
    "id": "rCdh8a8KFcvw"
   },
   "outputs": [
    {
     "data": {
      "text/plain": [
       "NormaltestResult(statistic=3678.6157187516856, pvalue=0.0)"
      ]
     },
     "execution_count": 25,
     "metadata": {},
     "output_type": "execute_result"
    }
   ],
   "source": [
    "# Do the same with the google data. \n",
    "google_normal = stats.normaltest(google)\n",
    "google_normal"
   ]
  },
  {
   "cell_type": "markdown",
   "metadata": {
    "colab_type": "text",
    "id": "9gDqu21yFcv0"
   },
   "source": [
    "Since the null hypothesis of the normaltest() is that the data are normally distributed, the lower the p-value in the result of this test, the more likely the data are to be non-normal. \n",
    "\n",
    "Since the p-values is 0 for both tests, regardless of what we pick for the significance level, our conclusion is that the data are not normally distributed. \n",
    "\n",
    "We can actually also check out the distribution of the data visually with a histogram. A normal distribution has the following visual characteristics:\n",
    "    - symmetric\n",
    "    - unimodal (one hump)\n",
    "As well as a roughly identical mean, median and mode. "
   ]
  },
  {
   "cell_type": "code",
   "execution_count": 26,
   "metadata": {
    "colab": {},
    "colab_type": "code",
    "id": "P9tT9RjNFcv1"
   },
   "outputs": [
    {
     "data": {
      "text/plain": [
       "<AxesSubplot:>"
      ]
     },
     "execution_count": 26,
     "metadata": {},
     "output_type": "execute_result"
    },
    {
     "data": {
      "image/png": "[encoded data removed]",
      "text/plain": [
       "<Figure size 432x288 with 1 Axes>"
      ]
     },
     "metadata": {
      "needs_background": "light"
     },
     "output_type": "display_data"
    }
   ],
   "source": [
    "# Create a histogram of the apple reviews distribution\n",
    "apple.hist()"
   ]
  },
  {
   "cell_type": "code",
   "execution_count": 27,
   "metadata": {
    "colab": {},
    "colab_type": "code",
    "id": "8dE1uC5iFcv2"
   },
   "outputs": [
    {
     "data": {
      "text/plain": [
       "<AxesSubplot:>"
      ]
     },
     "execution_count": 27,
     "metadata": {},
     "output_type": "execute_result"
    },
    {
     "data": {
      "image/png": "[encoded data removed]",
      "text/plain": [
       "<Figure size 432x288 with 1 Axes>"
      ]
     },
     "metadata": {
      "needs_background": "light"
     },
     "output_type": "display_data"
    }
   ],
   "source": [
    "# Create a histogram of the google data\n",
    "google.hist()"
   ]
  },
  {
   "cell_type": "markdown",
   "metadata": {
    "colab_type": "text",
    "id": "QhZV89FzFcv5"
   },
   "source": [
    "### 3c. Permutation test\n",
    "Since the data aren't normally distributed, we're using a *non-parametric* test here. This is simply a label for statistical tests used when the data aren't normally distributed. These tests are extraordinarily powerful due to how few assumptions we need to make.  \n",
    "\n",
    "Check out more about permutations [here.](http://rasbt.github.io/mlxtend/user_guide/evaluate/permutation_test/)"
   ]
  },
  {
   "cell_type": "code",
   "execution_count": 28,
   "metadata": {
    "colab": {},
    "colab_type": "code",
    "id": "bxNhQgpqFcv6"
   },
   "outputs": [
    {
     "data": {
      "text/html": [
       "<div>\n",
       "<style scoped>\n",
       "    .dataframe tbody tr th:only-of-type {\n",
       "        vertical-align: middle;\n",
       "    }\n",
       "\n",
       "    .dataframe tbody tr th {\n",
       "        vertical-align: top;\n",
       "    }\n",
       "\n",
       "    .dataframe thead th {\n",
       "        text-align: right;\n",
       "    }\n",
       "</style>\n",
       "<table border=\"1\" class=\"dataframe\">\n",
       "  <thead>\n",
       "    <tr style=\"text-align: right;\">\n",
       "      <th></th>\n",
       "      <th>count</th>\n",
       "      <th>mean</th>\n",
       "      <th>std</th>\n",
       "      <th>min</th>\n",
       "      <th>25%</th>\n",
       "      <th>50%</th>\n",
       "      <th>75%</th>\n",
       "      <th>max</th>\n",
       "    </tr>\n",
       "    <tr>\n",
       "      <th>platform</th>\n",
       "      <th></th>\n",
       "      <th></th>\n",
       "      <th></th>\n",
       "      <th></th>\n",
       "      <th></th>\n",
       "      <th></th>\n",
       "      <th></th>\n",
       "      <th></th>\n",
       "    </tr>\n",
       "  </thead>\n",
       "  <tbody>\n",
       "    <tr>\n",
       "      <th>apple</th>\n",
       "      <td>6268.0</td>\n",
       "      <td>4.132849</td>\n",
       "      <td>0.615219</td>\n",
       "      <td>1.0</td>\n",
       "      <td>4.0</td>\n",
       "      <td>4.3</td>\n",
       "      <td>4.5</td>\n",
       "      <td>5.0</td>\n",
       "    </tr>\n",
       "    <tr>\n",
       "      <th>google</th>\n",
       "      <td>9366.0</td>\n",
       "      <td>4.136109</td>\n",
       "      <td>0.611461</td>\n",
       "      <td>1.0</td>\n",
       "      <td>4.0</td>\n",
       "      <td>4.3</td>\n",
       "      <td>4.5</td>\n",
       "      <td>5.0</td>\n",
       "    </tr>\n",
       "  </tbody>\n",
       "</table>\n",
       "</div>"
      ],
      "text/plain": [
       "           count      mean       std  min  25%  50%  75%  max\n",
       "platform                                                     \n",
       "apple     6268.0  4.132849  0.615219  1.0  4.0  4.3  4.5  5.0\n",
       "google    9366.0  4.136109  0.611461  1.0  4.0  4.3  4.5  5.0"
      ]
     },
     "execution_count": 28,
     "metadata": {},
     "output_type": "execute_result"
    }
   ],
   "source": [
    "# Create a column called `Permutation1`, and assign to it the result of permuting (shuffling) the Rating column\n",
    "# This assignment will use our numpy object's random.permutation() method\n",
    "df['Permutation1'] = np.random.permutation(df.Rating)\n",
    "\n",
    "# Call the describe() method on our permutation grouped by 'platform'. \n",
    "df.groupby('platform')['Permutation1'].describe()"
   ]
  },
  {
   "cell_type": "code",
   "execution_count": 29,
   "metadata": {
    "colab": {},
    "colab_type": "code",
    "id": "AaGNfPGTFcv7"
   },
   "outputs": [
    {
     "data": {
      "text/html": [
       "<div>\n",
       "<style scoped>\n",
       "    .dataframe tbody tr th:only-of-type {\n",
       "        vertical-align: middle;\n",
       "    }\n",
       "\n",
       "    .dataframe tbody tr th {\n",
       "        vertical-align: top;\n",
       "    }\n",
       "\n",
       "    .dataframe thead th {\n",
       "        text-align: right;\n",
       "    }\n",
       "</style>\n",
       "<table border=\"1\" class=\"dataframe\">\n",
       "  <thead>\n",
       "    <tr style=\"text-align: right;\">\n",
       "      <th></th>\n",
       "      <th>count</th>\n",
       "      <th>mean</th>\n",
       "      <th>std</th>\n",
       "      <th>min</th>\n",
       "      <th>25%</th>\n",
       "      <th>50%</th>\n",
       "      <th>75%</th>\n",
       "      <th>max</th>\n",
       "    </tr>\n",
       "    <tr>\n",
       "      <th>platform</th>\n",
       "      <th></th>\n",
       "      <th></th>\n",
       "      <th></th>\n",
       "      <th></th>\n",
       "      <th></th>\n",
       "      <th></th>\n",
       "      <th></th>\n",
       "      <th></th>\n",
       "    </tr>\n",
       "  </thead>\n",
       "  <tbody>\n",
       "    <tr>\n",
       "      <th>apple</th>\n",
       "      <td>6268.0</td>\n",
       "      <td>4.049697</td>\n",
       "      <td>0.726943</td>\n",
       "      <td>1.0</td>\n",
       "      <td>4.0</td>\n",
       "      <td>4.5</td>\n",
       "      <td>4.5</td>\n",
       "      <td>5.0</td>\n",
       "    </tr>\n",
       "    <tr>\n",
       "      <th>google</th>\n",
       "      <td>9366.0</td>\n",
       "      <td>4.191757</td>\n",
       "      <td>0.515219</td>\n",
       "      <td>1.0</td>\n",
       "      <td>4.0</td>\n",
       "      <td>4.3</td>\n",
       "      <td>4.5</td>\n",
       "      <td>5.0</td>\n",
       "    </tr>\n",
       "  </tbody>\n",
       "</table>\n",
       "</div>"
      ],
      "text/plain": [
       "           count      mean       std  min  25%  50%  75%  max\n",
       "platform                                                     \n",
       "apple     6268.0  4.049697  0.726943  1.0  4.0  4.5  4.5  5.0\n",
       "google    9366.0  4.191757  0.515219  1.0  4.0  4.3  4.5  5.0"
      ]
     },
     "execution_count": 29,
     "metadata": {},
     "output_type": "execute_result"
    }
   ],
   "source": [
    "# Lets compare with the previous analytical summary:\n",
    "df.groupby('platform')['Rating'].describe()"
   ]
  },
  {
   "cell_type": "code",
   "execution_count": 30,
   "metadata": {
    "colab": {},
    "colab_type": "code",
    "id": "aJPNpX0JFcv-"
   },
   "outputs": [
    {
     "data": {
      "text/plain": [
       "[0.0010542790723846451,\n",
       " -0.018279804302409275,\n",
       " -0.00839971486432578,\n",
       " 0.002012993950473607,\n",
       " 0.013277893768020022,\n",
       " 0.0013205887607421474,\n",
       " -0.008852441334535222,\n",
       " 0.006220687026532445,\n",
       " -0.00017074549406181916,\n",
       " 0.00038850485148955727,\n",
       " 0.008457688408739727,\n",
       " 0.0006281835710115757,\n",
       " -0.006082820575611159,\n",
       " -0.01660205326575337,\n",
       " -0.002114806219075227,\n",
       " 0.002359196545339337,\n",
       " 0.010534903977931442,\n",
       " -0.0012626152163308646,\n",
       " 0.004809245678234042,\n",
       " 0.0016667913556087655,\n",
       " 0.012878429235483324,\n",
       " -0.009837787181459667,\n",
       " 0.005634805712144697,\n",
       " 0.01479585899166036,\n",
       " 0.01908344497422565,\n",
       " 0.010295225258409424,\n",
       " 0.0016401603867732817,\n",
       " 0.020761196010880667,\n",
       " 0.018444301722166045,\n",
       " -0.00195502040605966,\n",
       " 0.00896367681661836,\n",
       " -0.0029936281906577378,\n",
       " -0.009944311056801602,\n",
       " -0.008532869708504087,\n",
       " 0.011946345326228958,\n",
       " 0.007392449655307942,\n",
       " -0.013832432506830195,\n",
       " -0.0001973764628981911,\n",
       " -0.0068817496406845535,\n",
       " -0.006695332858834391,\n",
       " -0.014711254478410929,\n",
       " 0.006353841870709864,\n",
       " -0.013672646693816404,\n",
       " -0.0007832577772859395,\n",
       " 0.014929013835838667,\n",
       " 0.0020662558881445747,\n",
       " 0.009842498788199094,\n",
       " 0.005741329587486632,\n",
       " -0.010450299464682011,\n",
       " 0.0052087102107707395,\n",
       " 0.00046839775799689676,\n",
       " 0.00385053080014508,\n",
       " 0.009762605881693531,\n",
       " 0.001560267480265054,\n",
       " 0.011733297575542423,\n",
       " 9.556419429657126e-05,\n",
       " 0.019349754662582264,\n",
       " -0.003872450162238472,\n",
       " 0.005235341179606223,\n",
       " 0.009469665224498769,\n",
       " 0.0030782327039062807,\n",
       " -0.01327318216127793,\n",
       " 0.0039304237066524195,\n",
       " 0.0017733152309515887,\n",
       " -0.00427191469477517,\n",
       " -0.0057366179807445405,\n",
       " -0.005683356043073573,\n",
       " -0.012074788563666061,\n",
       " -0.01463136157190359,\n",
       " 0.009682712975185304,\n",
       " -0.010743240121875886,\n",
       " 0.009043569723127476,\n",
       " 1.567128778923177e-05,\n",
       " 0.017858420407778297,\n",
       " 0.003211387548085476,\n",
       " -0.010397037527010156,\n",
       " 0.012958322141989775,\n",
       " -0.022380973503122625,\n",
       " -0.008799179396863366,\n",
       " 0.026460223341741695,\n",
       " 0.001240695854235696,\n",
       " 0.005421757961457274,\n",
       " 0.008830521972439165,\n",
       " -0.00650891607698334,\n",
       " 0.01855082559750887,\n",
       " 0.006194056057695185,\n",
       " 0.009416403286827801,\n",
       " -0.002008282343733292,\n",
       " -0.01718793458014023,\n",
       " 0.008723998097096342,\n",
       " -0.010636716246533062,\n",
       " 0.013810513144735026,\n",
       " 0.011946345326228958,\n",
       " -0.005736617980746317,\n",
       " -0.0015555558735238506,\n",
       " -0.004405069538955253,\n",
       " 0.002412458483011193,\n",
       " 0.002518982358354016,\n",
       " 0.005501650867964614,\n",
       " 0.000281980976146734,\n",
       " 0.0039304237066524195,\n",
       " -0.018466221084260326,\n",
       " 0.0034776972364438663,\n",
       " -0.01566996935650078,\n",
       " 0.016180669371121503,\n",
       " -0.014551468665397138,\n",
       " 0.0061940560576960735,\n",
       " -0.005257260541700504,\n",
       " 0.0040635785508307265,\n",
       " -0.010343775589339188,\n",
       " 0.006939723185098501,\n",
       " 0.011413725949513953,\n",
       " 0.003690744987129513,\n",
       " -0.001182722309822637,\n",
       " -0.004431700507791625,\n",
       " -0.020410281809272846,\n",
       " 0.013837144113571398,\n",
       " 0.005901115400500423,\n",
       " -0.013912325413336646,\n",
       " 0.009096831660798443,\n",
       " -0.0012359842474936045,\n",
       " 0.00891041487894828,\n",
       " -0.004405069538955253,\n",
       " 0.005048924397755172,\n",
       " 0.0029717088285634574,\n",
       " 0.005554912805634693,\n",
       " 0.013277893768020022,\n",
       " 0.010508273009095959,\n",
       " -0.014365051883546087,\n",
       " -0.00547030829238615,\n",
       " -0.013885694444501162,\n",
       " -0.0009963055279724742,\n",
       " 0.010641427853275154,\n",
       " 0.00614079412002333,\n",
       " -0.018519483021930405,\n",
       " 0.005901115400501311,\n",
       " -0.00019737646289730293,\n",
       " 0.00536849602378453,\n",
       " 0.012505595671781222,\n",
       " -0.002274592032090794,\n",
       " -0.005709987011909057,\n",
       " -0.015403659668143277,\n",
       " -0.007174690297878428,\n",
       " -0.004698010196148239,\n",
       " 0.0073391877176360865,\n",
       " 0.0009743861658781938,\n",
       " -0.0020615442814042595,\n",
       " -0.005363784417044215,\n",
       " 0.006593520590231883,\n",
       " 0.02550150846365451,\n",
       " 0.008164747751544965,\n",
       " -0.015962910013693765,\n",
       " 9.556419429657126e-05,\n",
       " 0.005235341179607111,\n",
       " 0.002385827514174821,\n",
       " 0.0008678622905335942,\n",
       " -0.010343775589339188,\n",
       " -0.00360614047388097,\n",
       " -0.009784525243787812,\n",
       " 0.00736581868647157,\n",
       " 0.0035575901429503176,\n",
       " -0.003978974037582184,\n",
       " 0.0032912804545937036,\n",
       " 0.0053684960237854185,\n",
       " -0.003899081131073956,\n",
       " -0.0036327714427155655,\n",
       " -0.0023811159074336175,\n",
       " -0.0067485947965062465,\n",
       " 0.0014803745737577145,\n",
       " 0.0019863629816372352,\n",
       " 0.010028915570051034,\n",
       " -0.006908380609520037,\n",
       " -0.0047779031026555785,\n",
       " -0.0031800449725079005,\n",
       " -0.0052838915105368756,\n",
       " -0.00017074549406181916,\n",
       " -0.010743240121875886,\n",
       " -0.011941633719488642,\n",
       " 0.008004961938530286,\n",
       " 0.0074457115929780215,\n",
       " -0.012261205345517112,\n",
       " -0.00025063840056915865,\n",
       " -0.0019283894372250643,\n",
       " -0.013219920223605186,\n",
       " 0.001693422324443361,\n",
       " -0.0013957700605082834,\n",
       " 0.00385053080014508,\n",
       " -0.010476930433518383,\n",
       " -0.005976296700266559,\n",
       " 0.01436976349028729,\n",
       " -0.0017153416865385296,\n",
       " -0.008106774207131018,\n",
       " -0.009891049119129747,\n",
       " 0.007285925779964231,\n",
       " 0.0013205887607421474,\n",
       " 0.00041513582032504104,\n",
       " -0.0022479610632544222,\n",
       " 0.008723998097095453,\n",
       " 0.0006281835710115757,\n",
       " 0.015834466776255773,\n",
       " -0.00360614047388097,\n",
       " 0.01418334670843624,\n",
       " -0.003872450162238472,\n",
       " 0.01831114687798685,\n",
       " -0.0001973764628981911,\n",
       " -0.011009549810236052,\n",
       " -0.007627416768086981,\n",
       " -0.009811156212622407,\n",
       " -0.0003039003382401262,\n",
       " -0.003419723692029919,\n",
       " 0.004835876647068638,\n",
       " 0.016207300339957875,\n",
       " 0.0009477551970418219,\n",
       " 0.01231917888993106,\n",
       " -0.005843141856088252,\n",
       " -0.017427613299663136,\n",
       " -0.0004104242135847258,\n",
       " -0.001342508122837316,\n",
       " -0.0009430435902997303,\n",
       " 0.01745895587524071,\n",
       " -0.007494261923907786,\n",
       " -0.009438322648922082,\n",
       " -0.0021946991255834547,\n",
       " -0.007627416768086093,\n",
       " -0.013992218319843985,\n",
       " 0.0027586610778769227,\n",
       " -0.010689978184204918,\n",
       " -0.01412537316402318,\n",
       " -0.002274592032089906,\n",
       " -0.016655315203425225,\n",
       " 0.015088799648855122,\n",
       " 0.015834466776255773,\n",
       " -0.0012093532786581207,\n",
       " 0.002359196545338449,\n",
       " 0.0181247300961358,\n",
       " -0.013086765379427767,\n",
       " -0.009837787181459667,\n",
       " -0.015456921605813356,\n",
       " -0.005949665731431075,\n",
       " 0.0109609994793054,\n",
       " -0.006162713482116722,\n",
       " 0.006779937372082934,\n",
       " 0.01130720207417113,\n",
       " 0.019536171444434203,\n",
       " -0.022061401877093267,\n",
       " -0.006535547045818824,\n",
       " -0.00557683216773075,\n",
       " -0.009784525243787812,\n",
       " 0.00582122249399486,\n",
       " 0.003078232703907169,\n",
       " 0.00222604170116103,\n",
       " 0.005208710210771628,\n",
       " -0.003446354660866291,\n",
       " 0.004303257270352745,\n",
       " 0.005128817304262512,\n",
       " -0.008452976801996748,\n",
       " 9.556419429657126e-05,\n",
       " -0.007121428360206572,\n",
       " -0.013219920223605186,\n",
       " 0.0061674250888597015,\n",
       " -0.006935011578355521,\n",
       " 0.021879696701984308,\n",
       " -0.003792557255732021,\n",
       " 0.014742597053987616,\n",
       " 0.0023059346076683696,\n",
       " -0.0015555558735238506,\n",
       " -0.0154036596681415,\n",
       " 0.0008944932593708543,\n",
       " 0.015195323524197057,\n",
       " -0.0023544849385981337,\n",
       " -0.009411691680086598,\n",
       " -0.019531459837691223,\n",
       " -0.013912325413337534,\n",
       " 0.0039037927378160475,\n",
       " 0.01290506020431792,\n",
       " 0.007339187717635198,\n",
       " -0.0033664617543580633,\n",
       " -0.0035262475673736304,\n",
       " 0.01341104861219744,\n",
       " 0.00382389983130782,\n",
       " 0.02291830448657972,\n",
       " 0.007871807094351091,\n",
       " 0.013118107955004454,\n",
       " -0.0007832577772859395,\n",
       " 0.0017733152309515887,\n",
       " 0.004596197927547507,\n",
       " 0.008164747751544965,\n",
       " -0.010050834932144426,\n",
       " 0.01948290950676146,\n",
       " 0.001267326823072068,\n",
       " 0.009815867819364499,\n",
       " 0.007019616091604952,\n",
       " -0.0015555558735247388,\n",
       " -0.008879072303371593,\n",
       " -0.003100152066001449,\n",
       " 0.001267326823072068,\n",
       " -0.005709987011909945,\n",
       " 0.0007879693840271429,\n",
       " 0.00582122249399486,\n",
       " -0.0015022939358519949,\n",
       " -0.008239929051311101,\n",
       " -0.00025063840056915865,\n",
       " -0.007361107079729479,\n",
       " 0.0032646494857564434,\n",
       " -0.004431700507789849,\n",
       " -0.004990950853343001,\n",
       " -0.006402392201639628,\n",
       " 0.009283248442648606,\n",
       " 0.004356519208024601,\n",
       " -0.010849763997220485,\n",
       " -0.007467630955072302,\n",
       " 0.0011608029477292447,\n",
       " 0.00222604170116103,\n",
       " 0.012692012453632273,\n",
       " 0.01780515847010733,\n",
       " 0.0030782327039062807,\n",
       " 0.018311146877985074,\n",
       " 0.011094154323483707,\n",
       " 0.013384417643362845,\n",
       " 0.013198000861511794,\n",
       " -0.008852441334534333,\n",
       " 0.012132762108080009,\n",
       " 0.006273948964202525,\n",
       " -0.0034729856297017747,\n",
       " -0.014418313821217943,\n",
       " -0.0065888089834915675,\n",
       " 0.024462900679058208,\n",
       " 0.007605497405993589,\n",
       " -0.0012093532786590089,\n",
       " -0.011701954999964848,\n",
       " 0.008138116782709481,\n",
       " -0.003100152065999673,\n",
       " 0.0018532081374589282,\n",
       " -0.010876394966055969,\n",
       " -0.0006234719642703723,\n",
       " -0.0005702100265985166,\n",
       " 0.009176724567305783,\n",
       " 0.00044176678915963663,\n",
       " 0.007818545156680123,\n",
       " -0.01918525724282638,\n",
       " 0.006886461247427533,\n",
       " -0.016761839078768048,\n",
       " 0.007951700000859319,\n",
       " 0.005741329587486632,\n",
       " -0.007787202581102548,\n",
       " -0.007387738048564074,\n",
       " -0.0018751274995540967,\n",
       " 0.007285925779964231,\n",
       " -0.009891049119129747,\n",
       " 0.0009743861658773056,\n",
       " 0.0012939577919075518,\n",
       " 0.002252672669996514,\n",
       " -0.0036061404738800817,\n",
       " 0.007392449655306166,\n",
       " -0.010423668495846528,\n",
       " -0.013512860880799948,\n",
       " -0.005496939261222522,\n",
       " 0.019189968849567585,\n",
       " -0.010849763997218709,\n",
       " -0.003712664349223793,\n",
       " 0.004170102426174438,\n",
       " -0.0062692373574622096,\n",
       " -0.026668559485687915,\n",
       " -0.013592753787305512,\n",
       " -0.0008897816526296509,\n",
       " -0.0046447482584772715,\n",
       " 0.004835876647070414,\n",
       " 0.002359196545339337,\n",
       " 0.005448388930293646,\n",
       " 0.004889138584740493,\n",
       " 0.021000874730402685,\n",
       " 0.0018798391062961883,\n",
       " -0.010237251713995477,\n",
       " 0.006194056057695185,\n",
       " -3.759064988262395e-05,\n",
       " -0.005017581822178485,\n",
       " 0.0028119230155496666,\n",
       " 0.00020208806963850634,\n",
       " -0.008745917459190622,\n",
       " 0.005821222493993972,\n",
       " 0.004596197927547507,\n",
       " 0.008857152941275537,\n",
       " 0.01066805882210975,\n",
       " -0.009225274898235547,\n",
       " -0.0019017584683886923,\n",
       " 0.002119517825818207,\n",
       " -0.013965587351008502,\n",
       " 0.010907737541633544,\n",
       " -0.017241196517812973,\n",
       " 0.0011874339165638403,\n",
       " -0.0012093532786572325,\n",
       " 0.007419080624142538,\n",
       " 0.0066467825279037385,\n",
       " 0.009576189099841592,\n",
       " 0.005661436680979293,\n",
       " -0.003579509505044598,\n",
       " -0.019558090806527595,\n",
       " -0.0007566268084495675,\n",
       " -0.002274592032090794,\n",
       " -0.013219920223606074,\n",
       " 0.008111485813873998,\n",
       " 0.005554912805635581,\n",
       " 0.0025988752648613556,\n",
       " 0.00821800968921682,\n",
       " 0.012265916952258316,\n",
       " -0.00557683216773075,\n",
       " 0.0002287190384748783,\n",
       " -0.0006501029331067443,\n",
       " 0.00222604170116103,\n",
       " -0.002141437187910711,\n",
       " 0.006966354153933985,\n",
       " -0.00325993787901524,\n",
       " -0.00797361936295271,\n",
       " -0.0005968409954357767,\n",
       " -0.010796502059547741,\n",
       " 0.0026521372025332113,\n",
       " 0.0014271126360876352,\n",
       " 0.015328478368375364,\n",
       " -0.0007033648707777118,\n",
       " 0.0032912804545928154,\n",
       " 0.0017999461997870725,\n",
       " 0.0024657204206821604,\n",
       " -0.0034729856297017747,\n",
       " -0.003978974037582184,\n",
       " 0.008004961938530286,\n",
       " 0.0011608029477292447,\n",
       " -0.0025142707516128127,\n",
       " 0.001240695854235696,\n",
       " 0.0032380185169209597,\n",
       " 0.0022793036388319976,\n",
       " 0.013517572487541152,\n",
       " -0.011781847906473963,\n",
       " -0.02190161606407859,\n",
       " 0.0064869967148890595,\n",
       " -0.00557683216773075,\n",
       " -0.02219455672127335,\n",
       " -0.0026740565646266035,\n",
       " 0.022998197393088837,\n",
       " 0.011200678198827418,\n",
       " 0.002412458483011193,\n",
       " 0.004702721802889442,\n",
       " 0.0024657204206821604,\n",
       " 0.029629308633204232,\n",
       " -0.019158626273990897,\n",
       " 0.012452333734108478,\n",
       " -0.0047512721338192065,\n",
       " -0.0009696745591369904,\n",
       " 0.011387094980677581,\n",
       " 0.024569424554400143,\n",
       " 0.009949022663544582,\n",
       " 0.00017545710080302257,\n",
       " -0.009411691680086598,\n",
       " -0.009651370399609505,\n",
       " 0.007206032873456003,\n",
       " 0.0013472197295785193,\n",
       " -0.0029936281906559614,\n",
       " 0.0012939577919075518,\n",
       " 0.0008944932593717425,\n",
       " -0.020357019871601878,\n",
       " -0.010876394966055969,\n",
       " 0.017405693937569744,\n",
       " -0.004192021788268718,\n",
       " -0.003925712099910328,\n",
       " 0.009016938754291992,\n",
       " 0.013038215048497115,\n",
       " -0.004618117289641788,\n",
       " 0.01727253909339055,\n",
       " 0.004223364363846294,\n",
       " -3.759064988262395e-05,\n",
       " 0.01120067819882653,\n",
       " -0.004857796009163806,\n",
       " 0.011227309167662014,\n",
       " 0.006540258652560915,\n",
       " -6.422161871988408e-05,\n",
       " -0.008266560020146585,\n",
       " -0.00650891607698334,\n",
       " -0.010157358807489025,\n",
       " -0.007121428360206572,\n",
       " 0.003530959174114834,\n",
       " 0.00443641211453194,\n",
       " -0.002594163658120152,\n",
       " -0.004405069538953477,\n",
       " 0.004995662460084205,\n",
       " -0.0031800449725070123,\n",
       " 0.0036108520806221733,\n",
       " 0.005927746369335907,\n",
       " -0.004112128881760491,\n",
       " 0.028777117630458093,\n",
       " -0.005816510887252768,\n",
       " -0.009012227147549012,\n",
       " -0.0005169480889266609,\n",
       " 0.02041499341601405,\n",
       " -0.003419723692030807,\n",
       " 0.003557590142951206,\n",
       " -0.015776493231843602,\n",
       " 0.001720053293279733,\n",
       " 0.0036108520806221733,\n",
       " 0.006753306403248338,\n",
       " 0.01684644359201748,\n",
       " -1.0959681046252001e-05,\n",
       " 0.002998339797398941,\n",
       " -0.0026207946269547477,\n",
       " -0.0019283894372259525,\n",
       " -0.013006872472920428,\n",
       " 0.005075555366590656,\n",
       " -0.008879072303370705,\n",
       " -0.0058964037937592195,\n",
       " 0.01966932628861251,\n",
       " -0.005070843759850341,\n",
       " 0.008404426471066984,\n",
       " 0.010428380102587731,\n",
       " -0.0033930927231953234,\n",
       " 0.01650024099715175,\n",
       " -0.012287836314353484,\n",
       " 0.015701311932077466,\n",
       " 0.0032380185169209597,\n",
       " -0.0023544849385972455,\n",
       " 0.02020194566532929,\n",
       " -0.012128050501337917,\n",
       " -0.010237251713995477,\n",
       " -0.0033131998166862076,\n",
       " -0.005363784417044215,\n",
       " 0.006620151559069143,\n",
       " 0.0013205887607421474,\n",
       " 0.021293815387597448,\n",
       " -0.001928389437224176,\n",
       " 0.01069468979094701,\n",
       " -0.007254583204384879,\n",
       " -0.0046447482584772715,\n",
       " -0.002088175250238855,\n",
       " -0.0044849624454625925,\n",
       " -0.002141437187910711,\n",
       " -0.013273182161278818,\n",
       " 0.006966354153933096,\n",
       " -0.002194699125584343,\n",
       " 0.004383150176860973,\n",
       " 0.007552235468322621,\n",
       " -0.001662079748867562,\n",
       " 0.006433734777217204,\n",
       " 0.028351022129085024,\n",
       " -0.013273182161277042,\n",
       " 0.004569566958710247,\n",
       " -0.00025063840056915865,\n",
       " 0.020920981823895346,\n",
       " -0.003393092723193547,\n",
       " 0.004729352771725814,\n",
       " 0.004489674052203796,\n",
       " -0.0014490319981801392,\n",
       " 9.556419429568308e-05,\n",
       " 0.0043565192080237125,\n",
       " -0.005816510887252768,\n",
       " -0.0009963055279724742,\n",
       " -0.0070415354536992325,\n",
       " 0.00675330640324745,\n",
       " 0.0010276481035491614,\n",
       " 0.004329888239189117,\n",
       " -0.013992218319845762,\n",
       " 0.0018798391062953002,\n",
       " -0.005656725074238089,\n",
       " 0.011387094980675805,\n",
       " -0.0008631506837915026,\n",
       " -0.013486229911964465,\n",
       " 0.009150093598470299,\n",
       " 0.008377795502232388,\n",
       " 0.006700044465575594,\n",
       " 0.0010010171347127894,\n",
       " -0.0036327714427164537,\n",
       " 0.016393717121808926,\n",
       " -0.008958965209877157,\n",
       " -0.005656725074238089,\n",
       " 0.0011874339165629522,\n",
       " -0.01388569444450205,\n",
       " -0.004804534071491062,\n",
       " 0.006859830278590273,\n",
       " 0.0039304237066524195,\n",
       " -0.018013494614050884,\n",
       " -0.003579509505044598,\n",
       " 0.000281980976146734,\n",
       " 0.005395126992622679,\n",
       " 0.00744571159297891,\n",
       " 0.0050489243977560605,\n",
       " 0.013490941518706556,\n",
       " -0.0004636861512565815,\n",
       " -0.0012359842474936045,\n",
       " 0.0008944932593699662,\n",
       " -0.0001973764628981911,\n",
       " -0.006429023170476,\n",
       " -0.03417849269738493,\n",
       " 0.010135439445393857,\n",
       " 0.009949022663543694,\n",
       " 0.0014537436049222308,\n",
       " -0.010290513651666444,\n",
       " -0.0003571622759119819,\n",
       " 0.012718643422467757,\n",
       " 0.012186024045750976,\n",
       " -0.013086765379427767,\n",
       " -0.009172012960563691,\n",
       " -0.0033930927231944352,\n",
       " 0.0038771617689805637,\n",
       " 0.008537581315247067,\n",
       " 0.007179401904619631,\n",
       " -0.0001973764628981911,\n",
       " -0.011329121436263634,\n",
       " 0.0014271126360858588,\n",
       " 0.00922998650497675,\n",
       " 0.01309147698616897,\n",
       " -0.004724641164984611,\n",
       " -0.00677522576534173,\n",
       " 0.0037440069248013685,\n",
       " -0.016815101016439016,\n",
       " 0.01221265501458646,\n",
       " -0.013246551192441558,\n",
       " 0.0008678622905344824,\n",
       " -0.0313822409696245,\n",
       " -0.011142704654411695,\n",
       " -0.00845297680199586,\n",
       " 0.012159393076915492,\n",
       " -0.003419723692030807,\n",
       " 0.001240695854235696,\n",
       " -0.006109451544446642,\n",
       " 0.014662704147481165,\n",
       " -0.006322499295132289,\n",
       " 0.0048891385847413815,\n",
       " -0.013832432506830195,\n",
       " 0.0002287190384748783,\n",
       " -0.00030390033824101437,\n",
       " -0.011275859498592666,\n",
       " -0.005443677323550666,\n",
       " -0.010610085277697578,\n",
       " 0.011227309167662902,\n",
       " -0.01037040655817556,\n",
       " 0.009283248442648606,\n",
       " -0.012980241504084056,\n",
       " 0.00614079412002333,\n",
       " -0.011861740812979527,\n",
       " 0.000281980976146734,\n",
       " -0.002753949471134831,\n",
       " 0.009549558131006108,\n",
       " -0.01705477973596281,\n",
       " -0.003978974037582184,\n",
       " -0.010823133028383225,\n",
       " -0.011968264688324126,\n",
       " -0.006482285108148744,\n",
       " 0.015195323524197057,\n",
       " -0.00419202178826783,\n",
       " 0.00614079412002333,\n",
       " -0.0044849624454625925,\n",
       " -0.005124105697521308,\n",
       " -0.0029137352841512865,\n",
       " 0.003504328205278462,\n",
       " -0.00909212005405724,\n",
       " 0.016446979059479894,\n",
       " -0.025496796856912418,\n",
       " 0.0002287190384748783,\n",
       " -0.01790697073870895,\n",
       " -0.0025675326892855566,\n",
       " -0.009784525243787812,\n",
       " -0.01284708665990486,\n",
       " -0.012021526625994206,\n",
       " -0.004218652757104202,\n",
       " -0.011515538218113797,\n",
       " -0.01838632817775121,\n",
       " -0.004378438570118881,\n",
       " 0.011387094980676693,\n",
       " -0.0001441145252254472,\n",
       " -0.005337153448207843,\n",
       " -0.015350397730470533,\n",
       " -0.016974886829454583,\n",
       " -0.013965587351007613,\n",
       " 0.008484319377574323,\n",
       " 0.010028915570051034,\n",
       " 0.0209742437615672,\n",
       " 0.005901115400501311,\n",
       " -0.00839971486432578,\n",
       " 0.0040635785508307265,\n",
       " -0.006269237357461321,\n",
       " -0.011861740812979527,\n",
       " -0.007920357425280855,\n",
       " -0.020037448245571632,\n",
       " 0.004383150176860973,\n",
       " -0.003925712099911216,\n",
       " 0.006433734777217204,\n",
       " -0.00778720258110166,\n",
       " 0.003371173361100155,\n",
       " -0.004351807601283397,\n",
       " 0.01695296746736119,\n",
       " 0.02044162438485131,\n",
       " -0.00685511867184907,\n",
       " -0.002594163658120152,\n",
       " 0.0027586610778769227,\n",
       " -0.014657992540739073,\n",
       " 0.004276626301518149,\n",
       " 0.016553502934822717,\n",
       " 0.002838553984384262,\n",
       " -0.0029936281906568496,\n",
       " 0.004569566958711135,\n",
       " 0.004622828896382991,\n",
       " 0.005874484431665827,\n",
       " 0.014769228022823988,\n",
       " 0.005741329587485744,\n",
       " -0.005523570230059782,\n",
       " 0.0031048636727426526,\n",
       " 0.009416403286827801,\n",
       " 0.006593520590231883,\n",
       " -0.0028871043153140263,\n",
       " 0.017672003625927246,\n",
       " -0.005203998604030424,\n",
       " -0.009624739430773133,\n",
       " 0.008457688408739727,\n",
       " 0.0010276481035500495,\n",
       " 0.011280571105334758,\n",
       " -0.003100152066000561,\n",
       " 0.007818545156680123,\n",
       " -0.0111160736855771,\n",
       " -0.011089442716741615,\n",
       " -0.003446354660866291,\n",
       " -0.0039523430687467,\n",
       " 0.004010316613159759,\n",
       " -0.002114806219075227,\n",
       " -0.010663347215369434,\n",
       " 0.009043569723126588,\n",
       " -0.015004195135603915,\n",
       " -0.008532869708504975,\n",
       " 0.02369060258281941,\n",
       " 0.0001754571008021344,\n",
       " -0.015803124200679086,\n",
       " -0.005017581822179373,\n",
       " 0.007898438063187463,\n",
       " 0.019003552067716534,\n",
       " -0.0033131998166862076,\n",
       " 0.001586898449101426,\n",
       " -0.009571477493100389,\n",
       " -0.00650891607698334,\n",
       " -0.011142704654412583,\n",
       " 0.003211387548085476,\n",
       " 0.0017999461997870725,\n",
       " 0.00667341349674011,\n",
       " 0.00888378391011102,\n",
       " -0.0012093532786572325,\n",
       " -0.011329121436263634,\n",
       " 0.0037972688624732243,\n",
       " -0.002594163658120152,\n",
       " -0.026934869174046305,\n",
       " -0.0027273185022993474,\n",
       " -0.008373083895489408,\n",
       " 0.007578866437156329,\n",
       " -0.005763248949581801,\n",
       " 0.009762605881693531,\n",
       " 0.016899705529688447,\n",
       " 0.02283841158007327,\n",
       " 0.004223364363846294,\n",
       " -0.003872450162237584,\n",
       " -0.005630094105400829,\n",
       " -0.0012093532786572325,\n",
       " 0.022172637359177294,\n",
       " -0.003872450162238472,\n",
       " 0.01394366798891511,\n",
       " -0.008692655521518766,\n",
       " -0.016255850670885863,\n",
       " 0.009203355536141267,\n",
       " -0.011968264688324126,\n",
       " 0.004915769553575977,\n",
       " 0.0029450778597279736,\n",
       " 0.0024923513895194205,\n",
       " -0.024751129729509103,\n",
       " 0.012372440827602915,\n",
       " 0.013091476986168082,\n",
       " -0.006908380609520037,\n",
       " 0.002012993950473607,\n",
       " -0.013086765379426879,\n",
       " 0.0034244352987711224,\n",
       " 0.0010809100412219053,\n",
       " -0.009012227147549012,\n",
       " 0.0008412313216981104,\n",
       " 0.0065136276837254314,\n",
       " 0.004143471457338954,\n",
       " 0.016952967467360303,\n",
       " -0.01764066105034967,\n",
       " -0.0028604733464785426,\n",
       " 0.0027320301090405508,\n",
       " 0.004010316613159759,\n",
       " -0.007946988394117227,\n",
       " -0.004325176632447025,\n",
       " -0.008213298082475617,\n",
       " -0.0028604733464785426,\n",
       " 0.006966354153933985,\n",
       " 0.008910414878946504,\n",
       " -0.007813833549938032,\n",
       " 0.012026238232737185,\n",
       " 0.0003352429138194779,\n",
       " 0.002066255888145463,\n",
       " 0.001240695854235696,\n",
       " 0.013597465394048491,\n",
       " 0.0017733152309515887,\n",
       " 0.002705399140205955,\n",
       " -0.005576832167729862,\n",
       " 0.00744571159297891,\n",
       " 0.01189308338855799,\n",
       " -0.013033503441755023,\n",
       " 0.01700622940503216,\n",
       " 0.016127407433449648,\n",
       " -0.023579367100733606,\n",
       " -0.015243873855126822,\n",
       " -0.005816510887252768,\n",
       " 0.0034244352987720106,\n",
       " -0.0006234719642694841,\n",
       " -0.013086765379427767,\n",
       " 0.00709950899811318,\n",
       " -0.00933179877357837,\n",
       " -0.002940366252984994,\n",
       " 0.00012219516313205503,\n",
       " -0.01447157575888891,\n",
       " 0.0063538418707107525,\n",
       " 0.018071468158463944,\n",
       " -0.03364587332066815,\n",
       " -0.013140027317099623,\n",
       " -0.013113396348263251,\n",
       " -0.009518215555429421,\n",
       " -0.01258077697154647,\n",
       " 0.003930423706651531,\n",
       " 0.0008146003528626267,\n",
       " 0.0021461487946536906,\n",
       " -0.017614030081515075,\n",
       " -0.019371674024677432,\n",
       " 0.004862507615904121,\n",
       " -0.009731263306115068,\n",
       " -0.011622062093457508,\n",
       " -0.00453822438313356,\n",
       " -0.005576832167729862,\n",
       " -0.017001517798290955,\n",
       " 0.022385685109864717,\n",
       " -0.026135940108970246,\n",
       " 0.0063272109018743805,\n",
       " -0.0009963055279724742,\n",
       " -0.003925712099911216,\n",
       " 0.009815867819364499,\n",
       " 0.014582811240972937,\n",
       " -0.015110719010948515,\n",
       " -0.018199911395901935,\n",
       " -0.010689978184204918,\n",
       " -0.005443677323550666,\n",
       " -0.0019283894372259525,\n",
       " -0.01479114738491738,\n",
       " -0.010583454308861207,\n",
       " -0.002966997221821366,\n",
       " -0.0070415354536992325,\n",
       " 0.008510950346410695,\n",
       " 0.01000228460121555,\n",
       " 0.013837144113572286,\n",
       " -0.01172858596880122,\n",
       " -0.007574154830415125,\n",
       " -0.001022936496807958,\n",
       " 0.0018265771686234444,\n",
       " -0.005949665731431075,\n",
       " -0.00616271348211761,\n",
       " -0.007840464518773516,\n",
       " 0.015088799648855122,\n",
       " 0.0011341719788919846,\n",
       " -0.018599375928437745,\n",
       " -0.0020615442814033713,\n",
       " 0.011946345326228958,\n",
       " 0.008937045847782876,\n",
       " 0.013118107955004454,\n",
       " -0.01497756416676932,\n",
       " 0.01958943338210517,\n",
       " -0.004857796009163806,\n",
       " -0.010476930433518383,\n",
       " 0.007765283219008268,\n",
       " 0.0018265771686234444,\n",
       " 0.0009743861658781938,\n",
       " -0.006295868326296805,\n",
       " 0.0019863629816390116,\n",
       " -0.010769871090712257,\n",
       " -0.000303900338239238,\n",
       " -0.01958472177536219,\n",
       " 0.0035842211117866896,\n",
       " -0.00011748355639085162,\n",
       " -0.0005435790577630328,\n",
       " -0.010317144620503704,\n",
       " 0.007046247060441324,\n",
       " 0.005128817304262512,\n",
       " -0.014152004132859552,\n",
       " -0.0036860333803874212,\n",
       " 0.010827844635126205,\n",
       " 0.00803159290736577,\n",
       " 0.001560267480265054,\n",
       " -0.0006234719642703723,\n",
       " -0.020410281809273734,\n",
       " 0.007845176125514719,\n",
       " 0.026406961404071616,\n",
       " 0.0031314946415781364,\n",
       " 0.010375118164916763,\n",
       " 0.013411048612198329,\n",
       " 0.009735974912858048,\n",
       " -0.015962910013693765,\n",
       " 0.013331155705690989,\n",
       " -0.009811156212624184,\n",
       " -0.005337153448207843,\n",
       " 0.01977585016395711,\n",
       " 0.0023059346076674814,\n",
       " -0.0005702100265985166,\n",
       " -0.013725908631485595,\n",
       " -0.008825810365697961,\n",
       " 0.003530959174114834,\n",
       " -0.011009549810235164,\n",
       " -0.006295868326296805,\n",
       " -0.007920357425279967,\n",
       " -0.015883017107187314,\n",
       " -0.0010495674656425535,\n",
       " 0.012958322141989775,\n",
       " -0.004857796009163806,\n",
       " -0.008506238739668603,\n",
       " 0.005981008307009539,\n",
       " 0.013411048612199217,\n",
       " -0.012873717628740344,\n",
       " 0.003957054675487015,\n",
       " 0.009016938754290216,\n",
       " 0.005421757961458162,\n",
       " 0.00222604170116103,\n",
       " 0.004036947581995243,\n",
       " 0.008830521972440053,\n",
       " 0.011227309167662902,\n",
       " -0.011355752405100006,\n",
       " -0.00805351226946005,\n",
       " 0.009043569723127476,\n",
       " -0.00746763095507319,\n",
       " 0.010561534946767814,\n",
       " 0.009443034255663285,\n",
       " -0.00427191469477517,\n",
       " -0.007387738048564074,\n",
       " 0.003371173361100155,\n",
       " 0.0036108520806221733,\n",
       " 0.0006015526021752038,\n",
       " 0.009922391694707322,\n",
       " 0.01713938424921224,\n",
       " 0.015807835807421178,\n",
       " -0.003286568847850724,\n",
       " 0.014449656396793742,\n",
       " -0.006242606388624949,\n",
       " 0.0036108520806221733,\n",
       " 0.001427112636086747,\n",
       " 0.0188970281923746,\n",
       " 0.004569566958711135,\n",
       " -0.008000250331787306,\n",
       " -0.006295868326296805,\n",
       " -0.003952343068745812,\n",
       " -0.011515538218115573,\n",
       " -0.003552878536208226,\n",
       " 0.0028918159220552297,\n",
       " 0.012212655014588236,\n",
       " 0.0007347074463552872,\n",
       " 0.015195323524197057,\n",
       " 0.0026787681713695832,\n",
       " 0.002865184953219746,\n",
       " 0.0012140648854002123,\n",
       " 0.003477697236442978,\n",
       " 0.01247896470294485,\n",
       " 0.0003618738826549617,\n",
       " -0.002753949471134831,\n",
       " 0.006407103808382608,\n",
       " -0.010237251713996365,\n",
       " -0.0019550204060614362,\n",
       " -0.00163544878003119,\n",
       " 0.003371173361100155,\n",
       " 0.008857152941276425,\n",
       " 0.010881106572796284,\n",
       " -0.0204635437469447,\n",
       " -0.020064079214408004,\n",
       " 0.003877161768981452,\n",
       " -0.0028072114088057987,\n",
       " 0.00614079412002333,\n",
       " -0.0056034631365662335,\n",
       " -0.01079650205954863,\n",
       " 0.002891815922056118,\n",
       " -0.0022213300944198267,\n",
       " -0.005603463136565345,\n",
       " 0.011866452419721618,\n",
       " 0.005235341179606223,\n",
       " -0.00453822438313356,\n",
       " 0.003451066267606606,\n",
       " 0.0029717088285625692,\n",
       " -0.0018751274995532086,\n",
       " 0.011067523354648223,\n",
       " 0.006753306403248338,\n",
       " 0.008484319377575211,\n",
       " -0.002461008813940957,\n",
       " 0.002572244296025872,\n",
       " 0.010588165915603298,\n",
       " -0.008080143238295534,\n",
       " -0.007254583204385767,\n",
       " -0.0023811159074336175,\n",
       " 0.002012993950473607,\n",
       " -0.01258077697154647,\n",
       " -0.0201972340585872,\n",
       " 0.004463043083368312,\n",
       " -0.006215975419789466,\n",
       " 0.0019597320128017515,\n",
       " 0.0016667913556087655,\n",
       " 0.016873074560852963,\n",
       " -0.008373083895489408,\n",
       " ...]"
      ]
     },
     "execution_count": 30,
     "metadata": {},
     "output_type": "execute_result"
    }
   ],
   "source": [
    "# The difference in the means for Permutation1 (0.001103) now looks hugely different to our observed difference of 0.14206. \n",
    "# It's sure starting to look like our observed difference is significant, and that the Null is false; platform does impact on ratings\n",
    "# But to be sure, let's create 10,000 permutations, calculate the mean ratings for Google and Apple apps and the difference between these for each one, and then take the average of all of these differences.\n",
    "# Let's create a vector with the differences - that will be the distibution of the Null.\n",
    "\n",
    "# First, make a list called difference.\n",
    "difference = []\n",
    "\n",
    "# Now make a for loop that does the following 10,000 times:\n",
    "# 1. makes a permutation of the 'Rating' as you did above\n",
    "# 2. calculates the difference in the mean rating for apple and the mean rating for google. \n",
    "for i in range(10000):\n",
    "    df['permutation'] = np.random.permutation(df.Rating)\n",
    "    apple_rating_mean = df[df.platform == 'apple']['permutation'].mean()\n",
    "    google_rating_mean = df[df.platform == 'google']['permutation'].mean()\n",
    "    difference.append(apple_rating_mean - google_rating_mean)\n",
    "difference    "
   ]
  },
  {
   "cell_type": "code",
   "execution_count": 31,
   "metadata": {
    "colab": {},
    "colab_type": "code",
    "id": "VlzpYTkYFcv_"
   },
   "outputs": [
    {
     "data": {
      "image/png": "[encoded data removed]",
      "text/plain": [
       "<Figure size 432x288 with 1 Axes>"
      ]
     },
     "metadata": {
      "needs_background": "light"
     },
     "output_type": "display_data"
    }
   ],
   "source": [
    "# Make a variable called 'histo', and assign to it the result of plotting a histogram of the difference list. \n",
    "histo = plt.hist(difference, bins = 100)"
   ]
  },
  {
   "cell_type": "code",
   "execution_count": 32,
   "metadata": {
    "colab": {},
    "colab_type": "code",
    "id": "KhqgDFd3FcwB"
   },
   "outputs": [
    {
     "data": {
      "text/plain": [
       "0.1420605474512291"
      ]
     },
     "execution_count": 32,
     "metadata": {},
     "output_type": "execute_result"
    }
   ],
   "source": [
    "# Now make a variable called obs_difference, and assign it the result of the mean of our 'apple' variable and the mean of our 'google variable'\n",
    "obs_difference = np.mean(apple) - np.mean(google)\n",
    "\n",
    "# Make this difference absolute with the built-in abs() function. \n",
    "obs_difference = abs(obs_difference)\n",
    "\n",
    "# Print out this value; it should be 0.1420605474512291. \n",
    "obs_difference"
   ]
  },
  {
   "cell_type": "markdown",
   "metadata": {
    "colab_type": "text",
    "id": "QUNuuSgDFcwE"
   },
   "source": [
    "## Stage 4 -  Evaluating and concluding\n",
    "### 4a. What is our conclusion?"
   ]
  },
  {
   "cell_type": "code",
   "execution_count": 33,
   "metadata": {
    "colab": {},
    "colab_type": "code",
    "id": "XMQHnqx1FcwF"
   },
   "outputs": [
    {
     "data": {
      "text/plain": [
       "0.0"
      ]
     },
     "execution_count": 33,
     "metadata": {},
     "output_type": "execute_result"
    }
   ],
   "source": [
    "'''\n",
    "What do we know? \n",
    "\n",
    "Recall: The p-value of our observed data is just the proportion of the data given the null that's at least as extreme as that observed data.\n",
    "\n",
    "As a result, we're going to count how many of the differences in our difference list are at least as extreme as our observed difference.\n",
    "\n",
    "If less than or equal to 5% of them are, then we will reject the Null. \n",
    "'''\n",
    "np.sum(difference>=obs_difference)/len(difference)"
   ]
  },
  {
   "cell_type": "markdown",
   "metadata": {
    "colab_type": "text",
    "id": "4RTofY9wFcwI"
   },
   "source": [
    "### 4b. What is our decision?\n",
    "So actually, zero differences are at least as extreme as our observed difference!\n",
    "\n",
    "So the p-value of our observed data is 0. \n",
    "\n",
    "It doesn't matter which significance level we pick; our observed data is statistically significant, and we reject the Null.\n",
    "\n",
    "We conclude that platform does impact on ratings. Specifically, we should advise our client to integrate **only Google Play** into their operating system interface. "
   ]
  },
  {
   "cell_type": "markdown",
   "metadata": {
    "colab_type": "text",
    "id": "Cu_eh7fTFcwJ"
   },
   "source": [
    "### 4c. Other statistical tests, and next steps\n",
    "The test we used here is the Permutation test. This was appropriate because our data were not normally distributed! \n",
    "\n",
    "As we've seen in Professor Spiegelhalter's book, there are actually many different statistical tests, all with different assumptions. How many of these different statistical tests can you remember? How much do you remember about what the appropriate conditions are under which to use them? \n",
    "\n",
    "Make a note of your answers to these questions, and discuss them with your mentor at your next call. \n"
   ]
  }
 ],
 "metadata": {
  "colab": {
   "collapsed_sections": [
    "5fbRq2MZFcvq",
    "4RTofY9wFcwI",
    "Cu_eh7fTFcwJ"
   ],
   "name": "Springboard Apps project - Tier 3 - Complete.ipynb",
   "provenance": []
  },
  "kernelspec": {
   "display_name": "Python 3 (ipykernel)",
   "language": "python",
   "name": "python3"
  },
  "language_info": {
   "codemirror_mode": {
    "name": "ipython",
    "version": 3
   },
   "file_extension": ".py",
   "mimetype": "text/x-python",
   "name": "python",
   "nbconvert_exporter": "python",
   "pygments_lexer": "ipython3",
   "version": "3.9.6"
  }
 },
 "nbformat": 4,
 "nbformat_minor": 1
}
